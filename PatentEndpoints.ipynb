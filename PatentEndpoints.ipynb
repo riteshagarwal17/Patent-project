{
  "nbformat": 4,
  "nbformat_minor": 0,
  "metadata": {
    "colab": {
      "name": "PatentEndpoints.ipynb",
      "provenance": [],
      "collapsed_sections": [],
      "include_colab_link": true
    },
    "kernelspec": {
      "name": "python3",
      "display_name": "Python 3"
    }
  },
  "cells": [
    {
      "cell_type": "markdown",
      "metadata": {
        "id": "view-in-github",
        "colab_type": "text"
      },
      "source": [
        "<a href=\"https://colab.research.google.com/github/riteshagarwal17/Patent-project/blob/Shrishti/PatentEndpoints.ipynb\" target=\"_parent\"><img src=\"https://colab.research.google.com/assets/colab-badge.svg\" alt=\"Open In Colab\"/></a>"
      ]
    },
    {
      "cell_type": "code",
      "metadata": {
        "id": "As9U13FzeUzW"
      },
      "source": [
        "import requests\r\n",
        "from requests_oauthlib import OAuth1\r\n",
        "from oauthlib.oauth2 import BackendApplicationClient\r\n",
        "from requests_oauthlib import OAuth2Session\r\n",
        "import time\r\n",
        "import pandas\r\n",
        "\r\n"
      ],
      "execution_count": 10,
      "outputs": []
    },
    {
      "cell_type": "code",
      "metadata": {
        "id": "ZZGuDuUpfUkD"
      },
      "source": [
        "# method for generating access token\r\n",
        "def accessToken():\r\n",
        "  client_id='Yfh96bHKtKxnQLsXLdUakI8AXadzZlKK'\r\n",
        "  client_secret='Ia6yb9PUuMrDQfmY'\r\n",
        "  client = BackendApplicationClient(client_id=client_id)\r\n",
        "  oauth = OAuth2Session(client=client)\r\n",
        "  \r\n",
        "  token= oauth.fetch_token(token_url='https://ops.epo.org/3.2/auth/accesstoken',client_id=client_id,client_secret=client_secret)\r\n",
        "  \r\n",
        "  return token['access_token']"
      ],
      "execution_count": 11,
      "outputs": []
    },
    {
      "cell_type": "code",
      "metadata": {
        "id": "UHj3TGnzfhgl"
      },
      "source": [
        "# method for endpoint images \r\n",
        "# this method gives images data all images information\r\n",
        "def getImages(patent_number,constituents=''):\r\n",
        " \r\n",
        "  url = 'http://ops.epo.org/3.2/rest-services/published-data/publication/docdb/' + patent_number + '/images'\r\n",
        "  if(constituents!=''):\r\n",
        "    url = url + '/' + constituents\r\n",
        " \r\n",
        "  access_token = accessToken()\r\n",
        "  \r\n",
        "  response = requests.get(url = url , headers = {'Authorization':'Bearer '+access_token,'Accept': 'application/json'})\r\n",
        "  \r\n",
        "  \r\n",
        "  \r\n",
        "  return([response.status_code,response.content])\r\n",
        "    \r\n"
      ],
      "execution_count": 12,
      "outputs": []
    },
    {
      "cell_type": "code",
      "metadata": {
        "id": "4vYbe_YSgRYq"
      },
      "source": [
        "# method for endpoint equivalents\r\n",
        "# it gives documents which have same technical content as of entered patent number\r\n",
        "def getEquivalents(patent_number , constituents=''):\r\n",
        "\r\n",
        " \r\n",
        "  url = 'http://ops.epo.org/3.2/rest-services/published-data/publication/docdb/' + patent_number + '/equivalents' \r\n",
        "  if(constituents!=''):\r\n",
        "   \r\n",
        "    url = url + '/' + constituents\r\n",
        "   \r\n",
        "  access_token = accessToken()\r\n",
        " \r\n",
        "  response = requests.get(url = url , headers = {'Authorization':'Bearer '+access_token,'Accept': 'application/json'})\r\n",
        "  \r\n",
        "  \r\n",
        "  \r\n",
        "  return([response.status_code, response.content])"
      ],
      "execution_count": 13,
      "outputs": []
    },
    {
      "cell_type": "code",
      "metadata": {
        "id": "YuAv-utmgWgG"
      },
      "source": [
        "# method for endpoint fulltext\r\n",
        "# it is used to check whethere desriptions claims are presents in document #\r\n",
        "def getFulltext(patent_number , constituents=''):\r\n",
        "  \r\n",
        "  url = 'http://ops.epo.org/3.2/rest-services/published-data/publication/docdb/' + patent_number + '/fulltext' \r\n",
        "  if(constituents!=''):\r\n",
        "   \r\n",
        "    url = url + '/' + constituents\r\n",
        "    \r\n",
        "  access_token = accessToken()\r\n",
        "  \r\n",
        "  response = requests.get(url = url , headers = {'Authorization':'Bearer '+access_token,'Accept': 'application/json'})\r\n",
        " \r\n",
        "  \r\n",
        "  \r\n",
        "  return([response.status_code, response.content])\r\n"
      ],
      "execution_count": 14,
      "outputs": []
    },
    {
      "cell_type": "code",
      "metadata": {
        "id": "_OZI85dvg-Na"
      },
      "source": [
        "# methid for endpoint biblio\r\n",
        "# it gives biblio data , biblio data inclued claims decsription , inventor , citations etc\r\n",
        "\r\n",
        "# this function is also when no endpoint is given because by default biblio data is provided by ops \r\n",
        "def getBiblio(patent_number='' , country_code='',kind_code='' ,constituents='',search=''):\r\n",
        "  if(search==''):\r\n",
        "   \r\n",
        "    url = 'http://ops.epo.org/3.2/rest-services/published-data/publication/docdb/' + patent_number + '/biblio'\r\n",
        "    if(constituents!=''):\r\n",
        "     \r\n",
        "      url = url + '/' + constituents\r\n",
        "      \r\n",
        "  else:\r\n",
        "    url = 'http://ops.epo.org/3.2/rest-services/published-data/search'\r\n",
        "    if(constituents!=''):\r\n",
        "    \r\n",
        "      url = url + '/' + constituents \r\n",
        "      \r\n",
        "    url = url + '?q=' + search\r\n",
        "    \r\n",
        "  \r\n",
        "  access_token = accessToken()\r\n",
        "  \r\n",
        "  response = requests.get(url = url , headers = {'Authorization':'Bearer '+access_token,'Accept': 'application/json'})\r\n",
        "  \r\n",
        "  \r\n",
        "  return([response.status_code, response.content])\r\n"
      ],
      "execution_count": 15,
      "outputs": []
    },
    {
      "cell_type": "code",
      "metadata": {
        "id": "V24koT9VZo1J"
      },
      "source": [
        "# used to get claims of enetred document or patent number\r\n",
        "def getclaims(patent_number, constituents=''):\r\n",
        " \r\n",
        "  url = 'http://ops.epo.org/3.2/rest-services/published-data/publication/docdb/' + patent_number + '/claims' \r\n",
        "  if(constituents!=''):\r\n",
        "   \r\n",
        "    url = url + '/' + constituents\r\n",
        "   \r\n",
        "  access_token = accessToken()\r\n",
        "  \r\n",
        "  response = requests.get(url = url , headers = {'Authorization':'Bearer '+access_token,'Accept': 'application/json'})\r\n",
        " \r\n",
        "  # print(response.content)\r\n",
        "  \r\n",
        "  return([response.status_code,response.content])"
      ],
      "execution_count": 16,
      "outputs": []
    },
    {
      "cell_type": "code",
      "metadata": {
        "id": "v3ib1ESfZ2MR"
      },
      "source": [
        "# used to get description of document \r\n",
        "def getDescription(patent_number ,constituents=''):\r\n",
        " \r\n",
        "  url = 'http://ops.epo.org/3.2/rest-services/published-data/publication/docdb/' + patent_number + '/description' \r\n",
        "  if(constituents!=''):\r\n",
        "   \r\n",
        "    url = url + '/' + constituents\r\n",
        "    \r\n",
        "  access_token = accessToken()\r\n",
        " \r\n",
        "  response = requests.get(url = url , headers = {'Authorization':'Bearer '+access_token,'Accept': 'application/json'})\r\n",
        " \r\n",
        "  \r\n",
        "  return([response.status_code,response.content])"
      ],
      "execution_count": 28,
      "outputs": []
    },
    {
      "cell_type": "code",
      "metadata": {
        "id": "a4UcWKrzJ6Xa"
      },
      "source": [
        "def getImagesForDocument(image_url ):\r\n",
        "  url = 'http://ops.epo.org/3.2/rest-services' + '/' + image_url\r\n",
        "  access_token = accessToken()\r\n",
        " \r\n",
        "  response = requests.get(url = url , headers = {'Authorization':'Bearer '+access_token,'Accept': 'image/jpeg'})\r\n",
        "\r\n",
        "  return([response.status_code , response.content])\r\n",
        " \r\n"
      ],
      "execution_count": 18,
      "outputs": []
    },
    {
      "cell_type": "code",
      "metadata": {
        "colab": {
          "base_uri": "https://localhost:8080/"
        },
        "id": "GRqWygFVhRPm",
        "outputId": "def74482-709c-461d-d9e1-c3ade47acb33"
      },
      "source": [
        "getEquivalents('EP1000000A1')"
      ],
      "execution_count": 19,
      "outputs": [
        {
          "output_type": "execute_result",
          "data": {
            "text/plain": [
              "[200,\n",
              " b'{\"ops:world-patent-data\":{\"@xmlns\":{\"ops\":\"http://ops.epo.org\",\"$\":\"http://www.epo.org/exchange\",\"xlink\":\"http://www.w3.org/1999/xlink\"},\"ops:equivalents-inquiry\":{\"ops:publication-reference\":{\"document-id\":{\"@document-id-type\":\"docdb\",\"country\":{\"$\":\"EP\"},\"doc-number\":{\"$\":\"1000000\"},\"kind\":{\"$\":\"A1\"}}},\"ops:inquiry-result\":[{\"publication-reference\":{\"document-id\":{\"@document-id-type\":\"epodoc\",\"doc-number\":{\"$\":\"US6093011\"}}}},{\"publication-reference\":{\"document-id\":{\"@document-id-type\":\"epodoc\",\"doc-number\":{\"$\":\"AT232441T\"}}}},{\"publication-reference\":{\"document-id\":{\"@document-id-type\":\"epodoc\",\"doc-number\":{\"$\":\"EP1000000\"}}}},{\"publication-reference\":{\"document-id\":{\"@document-id-type\":\"epodoc\",\"doc-number\":{\"$\":\"NL1010536C\"}}}}]}}}']"
            ]
          },
          "metadata": {
            "tags": []
          },
          "execution_count": 19
        }
      ]
    },
    {
      "cell_type": "code",
      "metadata": {
        "colab": {
          "base_uri": "https://localhost:8080/"
        },
        "id": "Wa1YhMio_faf",
        "outputId": "b583244f-1f18-4d5a-89a7-684bb9642bbb"
      },
      "source": [
        "getImages(\"EP1000000B1\")"
      ],
      "execution_count": 20,
      "outputs": [
        {
          "output_type": "execute_result",
          "data": {
            "text/plain": [
              "[200,\n",
              " b'{\"ops:world-patent-data\":{\"@xmlns\":{\"ops\":\"http://ops.epo.org\",\"$\":\"http://www.epo.org/exchange\",\"xlink\":\"http://www.w3.org/1999/xlink\"},\"ops:document-inquiry\":{\"ops:publication-reference\":{\"document-id\":{\"@document-id-type\":\"docdb\",\"country\":{\"$\":\"EP\"},\"doc-number\":{\"$\":\"1000000\"},\"kind\":{\"$\":\"B1\"}}},\"ops:inquiry-result\":{\"publication-reference\":{\"document-id\":{\"@document-id-type\":\"docdb\",\"country\":{\"$\":\"EP\"},\"doc-number\":{\"$\":\"1000000\"},\"kind\":{\"$\":\"B1\"}}},\"ops:document-instance\":[{\"@system\":\"ops.epo.org\",\"@number-of-pages\":\"11\",\"@desc\":\"FullDocument\",\"@link\":\"published-data/images/EP/1000000/B1/fullimage\",\"ops:document-format-options\":{\"ops:document-format\":[{\"$\":\"application/pdf\"},{\"$\":\"application/tiff\"}]},\"ops:document-section\":[{\"@name\":\"BIBLIOGRAPHY\",\"@start-page\":\"1\"},{\"@name\":\"CLAIMS\",\"@start-page\":\"4\"},{\"@name\":\"DESCRIPTION\",\"@start-page\":\"2\"},{\"@name\":\"DRAWINGS\",\"@start-page\":\"6\"}]},{\"@system\":\"ops.epo.org\",\"@number-of-pages\":\"6\",\"@desc\":\"Drawing\",\"@link\":\"published-data/images/EP/1000000/B1/thumbnail\",\"ops:document-format-options\":{\"ops:document-format\":[{\"$\":\"application/pdf\"},{\"$\":\"application/tiff\"}]},\"ops:document-section\":{\"@name\":\"DRAWINGS\",\"@start-page\":\"1\"}},{\"@system\":\"ops.epo.org\",\"@number-of-pages\":\"1\",\"@desc\":\"FirstPageClipping\",\"@link\":\"published-data/images/EP/1000000/PA/firstpage\",\"ops:document-format-options\":{\"ops:document-format\":[{\"$\":\"application/pdf\"},{\"$\":\"application/tiff\"},{\"$\":\"image/jpeg\"},{\"$\":\"image/png\"}]},\"ops:document-section\":[{\"@name\":\"ABSTRACT\",\"@start-page\":\"1\"},{\"@name\":\"BIBLIOGRAPHY\",\"@start-page\":\"1\"}]}]}}}}']"
            ]
          },
          "metadata": {
            "tags": []
          },
          "execution_count": 20
        }
      ]
    },
    {
      "cell_type": "code",
      "metadata": {
        "colab": {
          "base_uri": "https://localhost:8080/"
        },
        "id": "OiMFzlqlFaxl",
        "outputId": "c7428f30-c3a6-47ee-9e2e-d9ef46f9e9f8"
      },
      "source": [
        "getBiblio(\"EP1000000B1\",'abstract,full-cycle,equivalents')"
      ],
      "execution_count": 21,
      "outputs": [
        {
          "output_type": "execute_result",
          "data": {
            "text/plain": [
              "[200,\n",
              " b'{\"ops:world-patent-data\":{\"@xmlns\":{\"ops\":\"http://ops.epo.org\",\"$\":\"http://www.epo.org/exchange\",\"xlink\":\"http://www.w3.org/1999/xlink\"},\"exchange-documents\":{\"exchange-document\":{\"@system\":\"ops.epo.org\",\"@family-id\":\"19768124\",\"@country\":\"EP\",\"@doc-number\":\"1000000\",\"@kind\":\"B1\",\"bibliographic-data\":{\"publication-reference\":{\"document-id\":[{\"@document-id-type\":\"docdb\",\"country\":{\"$\":\"EP\"},\"doc-number\":{\"$\":\"1000000\"},\"kind\":{\"$\":\"B1\"},\"date\":{\"$\":\"20030212\"}},{\"@document-id-type\":\"epodoc\",\"doc-number\":{\"$\":\"EP1000000\"},\"date\":{\"$\":\"20030212\"}}]},\"classification-ipc\":{\"text\":[{\"$\":\"B28B5/02\"},{\"$\":\"B28B1/29\"},{\"$\":\"B28B7/00\"}]},\"classifications-ipcr\":{\"classification-ipcr\":[{\"@sequence\":\"1\",\"text\":{\"$\":\"B28B   1/    29            A I\"}},{\"@sequence\":\"2\",\"text\":{\"$\":\"B28B   5/    02            A I\"}},{\"@sequence\":\"3\",\"text\":{\"$\":\"B28B   7/    00            A I\"}},{\"@sequence\":\"4\",\"text\":{\"$\":\"H02P   6/    08            A I\"}}]},\"patent-classifications\":{\"patent-classification\":[{\"@sequence\":\"1\",\"classification-scheme\":{\"@office\":\"EP\",\"@scheme\":\"CPCI\"},\"section\":{\"$\":\"B\"},\"class\":{\"$\":\"28\"},\"subclass\":{\"$\":\"B\"},\"main-group\":{\"$\":\"1\"},\"subgroup\":{\"$\":\"29\"},\"classification-value\":{\"$\":\"I\"},\"generating-office\":{\"$\":\"EP\"}},{\"@sequence\":\"2\",\"classification-scheme\":{\"@office\":\"EP\",\"@scheme\":\"CPCI\"},\"section\":{\"$\":\"B\"},\"class\":{\"$\":\"28\"},\"subclass\":{\"$\":\"B\"},\"main-group\":{\"$\":\"5\"},\"subgroup\":{\"$\":\"022\"},\"classification-value\":{\"$\":\"I\"},\"generating-office\":{\"$\":\"US\"}},{\"@sequence\":\"3\",\"classification-scheme\":{\"@office\":\"EP\",\"@scheme\":\"CPCI\"},\"section\":{\"$\":\"B\"},\"class\":{\"$\":\"28\"},\"subclass\":{\"$\":\"B\"},\"main-group\":{\"$\":\"5\"},\"subgroup\":{\"$\":\"022\"},\"classification-value\":{\"$\":\"I\"},\"generating-office\":{\"$\":\"EP\"}},{\"@sequence\":\"4\",\"classification-scheme\":{\"@office\":\"EP\",\"@scheme\":\"CPCI\"},\"section\":{\"$\":\"B\"},\"class\":{\"$\":\"28\"},\"subclass\":{\"$\":\"B\"},\"main-group\":{\"$\":\"7\"},\"subgroup\":{\"$\":\"0064\"},\"classification-value\":{\"$\":\"I\"},\"generating-office\":{\"$\":\"EP\"}},{\"@sequence\":\"5\",\"classification-scheme\":{\"@office\":\"EP\",\"@scheme\":\"CPCI\"},\"section\":{\"$\":\"H\"},\"class\":{\"$\":\"02\"},\"subclass\":{\"$\":\"P\"},\"main-group\":{\"$\":\"6\"},\"subgroup\":{\"$\":\"08\"},\"classification-value\":{\"$\":\"I\"},\"generating-office\":{\"$\":\"EP\"}}]},\"application-reference\":{\"@doc-id\":\"17397285\",\"document-id\":[{\"@document-id-type\":\"docdb\",\"country\":{\"$\":\"EP\"},\"doc-number\":{\"$\":\"99203729\"},\"kind\":{\"$\":\"A\"}},{\"@document-id-type\":\"epodoc\",\"doc-number\":{\"$\":\"EP19990203729\"},\"date\":{\"$\":\"19991108\"}},{\"@document-id-type\":\"original\",\"doc-number\":{\"$\":\"99203729\"}}]},\"priority-claims\":{\"priority-claim\":{\"@sequence\":\"1\",\"@kind\":\"national\",\"document-id\":[{\"@document-id-type\":\"epodoc\",\"doc-number\":{\"$\":\"NL19981010536\"},\"date\":{\"$\":\"19981112\"}},{\"@document-id-type\":\"original\",\"doc-number\":{\"$\":\"1010536\"}}]}},\"parties\":{\"applicants\":{\"applicant\":[{\"@sequence\":\"1\",\"@data-format\":\"epodoc\",\"applicant-name\":{\"name\":{\"$\":\"BEHEERMIJ DE BOER NIJMEGEN BV\\xe2\\x80\\x82[NL]\"}}},{\"@sequence\":\"1\",\"@data-format\":\"original\",\"applicant-name\":{\"name\":{\"$\":\"BEHEERMAATSCHAPPIJ DE BOER NIJMEGEN B.V\"}}}]},\"inventors\":{\"inventor\":[{\"@sequence\":\"1\",\"@data-format\":\"epodoc\",\"inventor-name\":{\"name\":{\"$\":\"KOSMAN WILHELMUS JACOBUS MARIA\\xe2\\x80\\x82[NL]\"}}},{\"@sequence\":\"1\",\"@data-format\":\"original\",\"inventor-name\":{\"name\":{\"$\":\"KOSMAN, WILHELMUS JACOBUS MARIA\"}}}]}},\"invention-title\":[{\"$\":\"Vorrichtung zur Herstellung von Steinformlingen f\\xc3\\xbcr die Ziegelindustrie\",\"@lang\":\"de\"},{\"$\":\"Dispositif pour la fabrication de briques crues utilis\\xc3\\xa9es dans l\\'industrie manufacturi\\xc3\\xa8re des briques\",\"@lang\":\"fr\"},{\"$\":\"Apparatus for manufacturing green bricks for the brick manufacturing industry\",\"@lang\":\"en\"}]}}}}}']"
            ]
          },
          "metadata": {
            "tags": []
          },
          "execution_count": 21
        }
      ]
    },
    {
      "cell_type": "code",
      "metadata": {
        "colab": {
          "base_uri": "https://localhost:8080/"
        },
        "id": "KW_Vj8YVFfvL",
        "outputId": "f74bdced-4bc4-4053-d4a2-04353d7a9a8a"
      },
      "source": [
        "getFulltext(\"EP1000000B1\")"
      ],
      "execution_count": 23,
      "outputs": [
        {
          "output_type": "execute_result",
          "data": {
            "text/plain": [
              "[200,\n",
              " b'{\"ops:world-patent-data\":{\"@xmlns\":{\"ops\":\"http://ops.epo.org\",\"$\":\"http://www.epo.org/exchange\",\"xlink\":\"http://www.w3.org/1999/xlink\"},\"ops:fulltext-inquiry\":{\"ops:publication-reference\":{\"document-id\":{\"@document-id-type\":\"docdb\",\"country\":{\"$\":\"EP\"},\"doc-number\":{\"$\":\"1000000\"},\"kind\":{\"$\":\"B1\"}}},\"ops:inquiry-result\":{\"publication-reference\":{\"document-id\":{\"@document-id-type\":\"docdb\",\"country\":{\"$\":\"EP\"},\"doc-number\":{\"$\":\"1000000\"},\"kind\":{\"$\":\"B1\"}}},\"ops:fulltext-instance\":[{\"@system\":\"ops.epo.org\",\"@lang\":\"EN\",\"@desc\":\"description\",\"ops:fulltext-format-options\":{\"ops:fulltext-format\":{\"$\":\"text-only\"}}},{\"@system\":\"ops.epo.org\",\"@lang\":\"DE\",\"@desc\":\"claims\",\"ops:fulltext-format-options\":{\"ops:fulltext-format\":{\"$\":\"text-only\"}}},{\"@system\":\"ops.epo.org\",\"@lang\":\"EN\",\"@desc\":\"claims\",\"ops:fulltext-format-options\":{\"ops:fulltext-format\":{\"$\":\"text-only\"}}},{\"@system\":\"ops.epo.org\",\"@lang\":\"FR\",\"@desc\":\"claims\",\"ops:fulltext-format-options\":{\"ops:fulltext-format\":{\"$\":\"text-only\"}}}]}}}}']"
            ]
          },
          "metadata": {
            "tags": []
          },
          "execution_count": 23
        }
      ]
    },
    {
      "cell_type": "code",
      "metadata": {
        "colab": {
          "base_uri": "https://localhost:8080/"
        },
        "id": "WqR_X-wSGUiV",
        "outputId": "e2452789-7fef-44e5-ff59-1d2e1118b2e4"
      },
      "source": [
        "getclaims(\"EP1000000B1\")"
      ],
      "execution_count": 25,
      "outputs": [
        {
          "output_type": "execute_result",
          "data": {
            "text/plain": [
              "[200,\n",
              " b'{\"ops:world-patent-data\":{\"@xmlns\":{\"ops\":\"http://ops.epo.org\",\"$\":\"http://www.epo.org/exchange\",\"xlink\":\"http://www.w3.org/1999/xlink\"},\"ftxt:fulltext-documents\":{\"ftxt:fulltext-document\":{\"@system\":\"ops.epo.org\",\"@fulltext-format\":\"text-only\",\"bibliographic-data\":{\"publication-reference\":{\"@data-format\":\"docdb\",\"document-id\":{\"country\":{\"$\":\"EP\"},\"doc-number\":{\"$\":\"1000000\"},\"kind\":{\"$\":\"B1\"}}}},\"claims\":[{\"@lang\":\"DE\",\"claim\":{\"claim-text\":[{\"$\":\"1. Vorrichtung zum Herstellen von Gr\\xc3\\xbcnziegeln aus Lehm f\\xc3\\xbcr die Ziegel-Herstellungs-Industrie, aufweisend einen Umlauf-F\\xc3\\xb6rderer (3), der Form-Beh\\xc3\\xa4lter tr\\xc3\\xa4gt, die zu Form-Beh\\xc3\\xa4lter-Teilen (4) kombiniert sind, einen Vorratsbeh\\xc3\\xa4lter (5) f\\xc3\\xbcr Lehm, der \\xc3\\xbcber den Form-Beh\\xc3\\xa4ltern angeordnet ist, Mittel (6, 7) zum F\\xc3\\xb6rdern von Lehm aus dem Vorratsbeh\\xc3\\xa4lter in die Form-Beh\\xc3\\xa4lter, Mittel (9) zum Pressen und Formen von Lehm in den Form-Beh\\xc3\\xa4ltern, Mittel (11) zum Zuf\\xc3\\xbchren und Platzieren von Abnehm-Platten (12) f\\xc3\\xbcr die Gr\\xc3\\xbcn-Ziegel und Mittel zum Entladen von Gr\\xc3\\xbcn-Ziegeln, die von den Form-Beh\\xc3\\xa4ltern freigegeben sind,\\\\ndadurch gekennzeichnet, dass die Vorrichtung ferner ein Balkenteil (26) mit Stopper-Teilen (27) aufweist, das eingerichtet ist, um an einem Form-Beh\\xc3\\xa4lter-Teil (4) zum Bewegen der mit Gr\\xc3\\xbcn-Ziegeln gef\\xc3\\xbcllten Form-Beh\\xc3\\xa4lter-Teile anzugreifen, so dass eine hervorstehende Kante an zumindest einer Seite der Gr\\xc3\\xbcn-Ziegel ausgebildet wird.\"},{\"$\":\"2. Vorrichtung gem\\xc3\\xa4\\xc3\\x9f Anspruch 1, wobei die kantenformenden Mittel eingerichtet sind, die Form-Beh\\xc3\\xa4lter-Teile f\\xc3\\xbcr eine bestimmte Zeitdauer wiederholt zu bewegen.\"},{\"$\":\"3. Vorrichtung gem\\xc3\\xa4\\xc3\\x9f Anspruch 1 oder 2, wobei die kantenformenden Mittel eingerichtet sind, die Form-Beh\\xc3\\xa4lter-Teile im Wesentlichen quer zur Transportrichtung zu bewegen.\"},{\"$\":\"4. Vorrichtung gem\\xc3\\xa4\\xc3\\x9f einem der vorangehenden Anspr\\xc3\\xbcche, wobei die kantenformenden Mittel ein Balkenteil aufweisen, das eingerichtet ist, individuell an einem Form-Beh\\xc3\\xa4lter-Teil anzugreifen.\"},{\"$\":\"5. Vorrichtung gem\\xc3\\xa4\\xc3\\x9f Anspruch 4, wobei das Balkenteil das Form-Beh\\xc3\\xa4lter-Teil \\xc3\\xbcberspannt und an beiden Seiten mit Stopper-Teilen versehen ist, die w\\xc3\\xa4hrend des Betriebs an der Position der Seitenw\\xc3\\xa4nde des Form-Beh\\xc3\\xa4lter-Teils positioniert sind.\"},{\"$\":\"6. Vorrichtung gem\\xc3\\xa4\\xc3\\x9f Anspruch 5, wobei die Stopper-Teile mit Stopper-Fl\\xc3\\xa4chen versehen sind, die bevorzugt Kunststoff aufweisen.\"},{\"$\":\"7. Vorrichtung gem\\xc3\\xa4\\xc3\\x9f Anspruch 5 oder 6, wobei die Form-Beh\\xc3\\xa4lter-Teile an ihren Seitenw\\xc3\\xa4nden mit Stopper-Fl\\xc3\\xa4chen versehen sind, die bevorzugt Kunststoff aufweisen.\"},{\"$\":\"8. Vorrichtung gem\\xc3\\xa4\\xc3\\x9f Anspruch 4, 5, 6 oder 7, wobei die kantenformenden Mittel einen Exzenter-Antrieb f\\xc3\\xbcr das Balkenteil aufweisen.\"},{\"$\":\"9. Vorrichtung gem\\xc3\\xa4\\xc3\\x9f einem der vorangehenden Anspr\\xc3\\xbcche, wobei jedes Form-Beh\\xc3\\xa4lter-Teil mit einer Anzahl von Abstandshaltern zum St\\xc3\\xbctzen der Abnehm-Platten mit einem Abstand \\xc3\\xbcber den Gr\\xc3\\xbcn-Ziegeln versehen ist.\"},{\"$\":\"10. Vorrichtung gem\\xc3\\xa4\\xc3\\x9f einem der vorangehenden Anspr\\xc3\\xbcche, wobei die Form-Beh\\xc3\\xa4lter-Teile beweglich auf dem F\\xc3\\xb6rderer mit gewissem Spielraum in Bewegungsrichtung befestigt sind.\"},{\"$\":\"11. Vorrichtung gem\\xc3\\xa4\\xc3\\x9f Anspruch 10, wobei der F\\xc3\\xb6rderer ein Kettenf\\xc3\\xb6rderer ist, und wobei die Form-Beh\\xc3\\xa4lter-Teile mit gewissem Spielraum in Bewegungsrichtung mit einem Kettenteil gekuppelt sind, das mit der Kette kuppelbar ist.\"}]}},{\"@lang\":\"FR\",\"claim\":{\"claim-text\":[{\"$\":\"1. Dispositif pour la fabrication de briques crues \\xc3\\xa0 partir d\\'argile pour l\\'industrie manufacturi\\xc3\\xa8re des briques, comprenant un convoyeur circulant (3) portant des conteneurs \\xc3\\xa0 moules associ\\xc3\\xa9s \\xc3\\xa0 des parties de conteneurs \\xc3\\xa0 moules (4), un r\\xc3\\xa9servoir (5) pour l\\'argile dispos\\xc3\\xa9 au-dessus des conteneurs \\xc3\\xa0 moules, des moyens (6, 7) pour enlever l\\'argile du r\\xc3\\xa9servoir et l\\'amener dans les conteneurs \\xc3\\xa0 moules, des moyens (9) pour presser et lisser l\\'argile dans les conteneurs \\xc3\\xa0 moule, des moyens (11) pour amener et placer des plaques d\\'enl\\xc3\\xa8vement (12) pour les briques crues et des moyens pour d\\xc3\\xa9charger les briques crues d\\xc3\\xa9gag\\xc3\\xa9es des conteneurs \\xc3\\xa0 moules, caract\\xc3\\xa9ris\\xc3\\xa9 en ce que le dispositif comprend, en outre, un ch\\xc3\\xa2ssis (26) avec des pi\\xc3\\xa8ces d\\'arr\\xc3\\xaat (27) qui est con\\xc3\\xa7u pour s\\'engager dans une partie de conteneurs \\xc3\\xa0 moules (4) pour d\\xc3\\xa9placer les parties de conteneurs \\xc3\\xa0 moules remplies de briques crues de mani\\xc3\\xa8re \\xc3\\xa0 ce qu\\'un bord saillant soit form\\xc3\\xa9 sur au moins un c\\xc3\\xb4t\\xc3\\xa9 des briques crues.\"},{\"$\":\"2. Dispositif selon la revendication 1, dans lequel les moyens de formage de bord sont con\\xc3\\xa7us pour d\\xc3\\xa9placer les parties de conteneurs \\xc3\\xa0 moules de mani\\xc3\\xa8re r\\xc3\\xa9p\\xc3\\xa9t\\xc3\\xa9e pendant un certain temps.\"},{\"$\":\"3. Dispositif selon la revendication 1 ou 2, dans lequel les moyens de formage de bord sont con\\xc3\\xa7us pour d\\xc3\\xa9placer les parties de conteneurs \\xc3\\xa0 moules sensiblement dans le sens transversal du sens de transport.\"},{\"$\":\"4. Dispositif selon l\\'une quelconque des revendications pr\\xc3\\xa9c\\xc3\\xa9dentes, dans lequel les moyens de formage de bord comprennent un ch\\xc3\\xa2ssis qui est con\\xc3\\xa7u pour s\\'engager individuellement dans une partie de conteneurs \\xc3\\xa0 moules.\"},{\"$\":\"5. Dispositif selon la revendication 4, dans lequel le ch\\xc3\\xa2ssis enjambe la partie de conteneurs \\xc3\\xa0 moules et est pourvu des deux c\\xc3\\xb4t\\xc3\\xa9s de pi\\xc3\\xa8ces d\\'arr\\xc3\\xaat qui, pendant le fonctionnement, sont situ\\xc3\\xa9s \\xc3\\xa0 l\\'emplacement des parois lat\\xc3\\xa9rales de la partie de conteneurs \\xc3\\xa0 moules.\"},{\"$\":\"6. Dispositif selon la revendication 5, dans lequel les pi\\xc3\\xa8ces d\\'arr\\xc3\\xaat comportent des surfaces d\\'arr\\xc3\\xaat qui comprennent, de pr\\xc3\\xa9f\\xc3\\xa9rence, du plastique.\"},{\"$\":\"7. Dispositif selon la revendication 5 ou 6, dans lequel les parties de conteneurs \\xc3\\xa0 moules comportent, sur leurs parois lat\\xc3\\xa9rales, des surfaces d\\'arr\\xc3\\xaat qui comprennent, de pr\\xc3\\xa9f\\xc3\\xa9rence, du plastique.\"},{\"$\":\"8. Dispositif selon la revendication 4, 5, 6 ou 7, dans lequel les moyens de formage de bord comprennent une commande \\xc3\\xa0 excentrique pour le ch\\xc3\\xa2ssis.\"},{\"$\":\"9. Dispositif selon l\\'une quelconque des revendications pr\\xc3\\xa9c\\xc3\\xa9dentes, dans lequel chacune des parties de conteneurs \\xc3\\xa0 moules comporte un certain nombre de pi\\xc3\\xa8ces d\\'\\xc3\\xa9cartement pour soutenir les plaques d\\'enl\\xc3\\xa8vement \\xc3\\xa0 une certaine distance au-dessus des briques crues.\"},{\"$\":\"10. Dispositif selon l\\'une quelconque des revendications pr\\xc3\\xa9c\\xc3\\xa9dentes, dans lequel les parties de conteneurs \\xc3\\xa0 moules sont fix\\xc3\\xa9es de mani\\xc3\\xa8re mobile sur le convoyeur avec un certain jeu dans le sens du mouvement.\"},{\"$\":\"11. Dispositif selon la revendication 10, dans lequel le convoyeur est un convoyeur \\xc3\\xa0 cha\\xc3\\xaene et les parties de conteneurs \\xc3\\xa0 moules sont accoupl\\xc3\\xa9es, avec un certain jeu dans le sens du mouvement, \\xc3\\xa0 une partie de cha\\xc3\\xaene qui peut \\xc3\\xaatre raccord\\xc3\\xa9e \\xc3\\xa0 la cha\\xc3\\xaene.\"}]}},{\"@lang\":\"EN\",\"claim\":{\"claim-text\":[{\"$\":\"1. Apparatus for manufacturing green bricks from clay for the brick manufacturing industry, comprising a circulating conveyor (3) carrying mould containers combined to mould container parts (4), a reservoir (5) for clay arranged above the mould containers, means (6,7) for carrying clay out of the reservoir into the mould containers, means (9) for pressing and trimming clay in the mould containers, means (11) for supplying and placing take-off plates (12) for the green bricks and means for discharging green bricks released from the mould containers, characterized in that the apparatus further comprises a frame (26) with stop members (27), which is adapted to engage on a mould container part (4) for moving the mould container parts filled with green bricks such that a protruding edge is formed on at least one side of the green bricks.\"},{\"$\":\"2. Apparatus as claimed in claim 1, wherein the edge-forming means are adapted to move the mould container parts repeatedly for a certain period.\"},{\"$\":\"3. Apparatus as claimed in claim 1 or 2, wherein the edge-forming means are adapted to move the mould container parts substantially transversely of the transporting direction.\"},{\"$\":\"4. Apparatus as claimed in any of the foregoing claims, wherein the edge-forming means comprise a frame which is adapted to engage individually on a mould container part.\"},{\"$\":\"5. Apparatus as claimed in claim 4, wherein the frame spans the mould container part and is provided on both sides with stop members which are situated during operation at the location of the side walls of the mould container part.\"},{\"$\":\"6. Apparatus as claimed in claim 5, wherein the stop members are provided with stop surfaces which preferably comprise plastic.\"},{\"$\":\"7. Apparatus as claimed in claim 5 or 6, wherein the mould container parts are provided on their side walls with stop surfaces which preferably comprise plastic.\"},{\"$\":\"8. Apparatus as claimed in claim 4, 5, 6 or 7, wherein the edge-forming means comprise an eccentric drive for the frame.\"},{\"$\":\"9. Apparatus as claimed in any of the foregoing claims, wherein each mould container part is provided with a number of spacer members for supporting the take-off plates at a distance above the green bricks.\"},{\"$\":\"10. Apparatus as claimed in any of the foregoing claims, wherein the mould container parts are fixed movably onto the conveyor with some clearance in the direction of movement.\"},{\"$\":\"11. Apparatus as claimed in claim 10, wherein the conveyor is a chain conveyor and the mould container parts are coupled with some clearance in the direction of movement to a chain part connectable to the chain.\"}]}}]}}}}']"
            ]
          },
          "metadata": {
            "tags": []
          },
          "execution_count": 25
        }
      ]
    },
    {
      "cell_type": "code",
      "metadata": {
        "colab": {
          "base_uri": "https://localhost:8080/"
        },
        "id": "LvAmXkZUaAut",
        "outputId": "cba53050-26cd-4075-bb10-08a71015c24a"
      },
      "source": [
        "getDescription(\"EP1000000B1\")"
      ],
      "execution_count": 29,
      "outputs": [
        {
          "output_type": "execute_result",
          "data": {
            "text/plain": [
              "[200,\n",
              " b'{\"ops:world-patent-data\":{\"@xmlns\":{\"ops\":\"http://ops.epo.org\",\"$\":\"http://www.epo.org/exchange\",\"xlink\":\"http://www.w3.org/1999/xlink\"},\"ftxt:fulltext-documents\":{\"ftxt:fulltext-document\":{\"@system\":\"ops.epo.org\",\"@fulltext-format\":\"text-only\",\"bibliographic-data\":{\"publication-reference\":{\"@data-format\":\"docdb\",\"document-id\":{\"country\":{\"$\":\"EP\"},\"doc-number\":{\"$\":\"1000000\"},\"kind\":{\"$\":\"B1\"}}}},\"description\":{\"@lang\":\"EN\",\"p\":[{\"$\":\"[0001]    The invention relates to an apparatus for manufacturing green bricks from clay for the brick manufacturing industry, comprising a circulating conveyor carrying mould containers combined to mould container parts, a reservoir for clay arranged above the mould containers, means for carrying clay out of the reservoir into the mould containers, means for pressing and trimming clay in the mould containers, means for supplying and placing take-off plates for the green bricks and means for discharging green bricks released from the mould containers. Such an apparatus is known in the field and is for instance described in the patent NL-C-1000186 of applicant. The known apparatus is extremely suitable for automated production of large numbers of green bricks for the brick manufacturing industry. The bricks fired from these green bricks have a substantially smooth, uniform appearance.\"},{\"$\":\"[0002]    A recent demand has developed on the market for bricks which appear as if they have been manufactured according to traditional methods.\"},{\"$\":\"[0003]    The invention has for its object to adapt the known apparatus such that it can produce in automated manner large numbers of green bricks with a traditional appearance.\"},{\"$\":\"[0004]    For this purpose the apparatus according to the invention has the feature that the apparatus further comprises a frame with stop members, which is adapted to engage on a mould container part for moving the mould container parts filled with green bricks such that a protruding edge is formed on at least one side of the green bricks.\"},{\"$\":\"[0005]    The bricks fired from the green bricks produced using the apparatus according to the invention impart beautiful shadow effects to the wall into which they have been built when the sun shines thereon. This aesthetic effect is an important commercial advantage.\"},{\"$\":\"[0006]    The edge-forming means are preferably adapted to move the mould container parts repeatedly for a certain period. Repetition a number of times, for instance three times, is found in practice to be sufficient to obtain the intended effect.\"},{\"$\":\"[0007]    In a practical preferred embodiment the edge-forming means are adapted to move the mould container parts substantially transversely of the transporting direction.\"},{\"$\":\"[0008]    In a further preferred embodiment the edge-forming means comprise a frame which is adapted to engage individually on a mould container part. This preferred embodiment has the significant advantage that the edge-forming means can act on one mould container part while another mould container part undergoes another operation and is for instance filled with clay. The edge-forming means can therefore be added to the known apparatus without this affecting the production time.\"},{\"$\":\"[0009]    In yet another preferred embodiment the frame spans the mould container part and is provided on both sides with stop members which are situated during operation at the location of the side walls of the mould container part. An exceptionally compact embodiment of the invention is hereby realized which utilizes the available space economically and can be arranged without difficulty on the known apparatus.\"},{\"$\":\"[0010]    In order to prevent unnecessary damage to the mould container parts, these latter are provided on their side walls with stop surfaces, preferably of plastic. In preference the stop members of the frame of the edge-forming means are also provided with these, preferably plastic, stop surfaces.\"},{\"$\":\"[0011]    The invention is described in more detail hereinbelow with reference to the drawing in which:\\\\nfigure 1 shows schematically a preferred embodiment of the apparatus according to the invention;\\\\nfigure 2 shows in more detail a perspective view of a part of the apparatus of figure 1 with the edge-forming means therein;\\\\nfigure 3 shows the edge-forming means of figure 2 in even more detail;\\\\nfigure 4 is a perspective view of a first preferred embodiment of a mould container part which is suitable for use in the apparatus according to the invention;\\\\nfigure 5 is a perspective view of a second preferred embodiment of a mould container part; and\\\\nfigure 6 shows schematically a part of a wall which has been built using bricks provided with an edge and fired from the green bricks manufactured using the apparatus according to the invention.\"},{\"$\":\"[0012]    Like components are provided in the figures with like reference numerals.\"},{\"$\":\"[0013]    Figure 1 shows a preferred embodiment of an apparatus for manufacturing green bricks for the brick manufacturing industry according to the invention. Apparatus 1 comprises a conveyor 3. Mould containers combined to a unit are placed in the form of a mould container part 4 on the conveyor. The mould container parts fit closely against each other. Placed above the mould containers is a reservoir 5 for clay which is kept in continuous movement by an agitator 6 which is driven by the electric motor 7. Clay is supplied to reservoir 5 by a circulating conveyor 8. The clay is carried out of reservoir 5 into the mould containers and then pressed down by pressing device 9 which is pivotable on shaft 10. The excess clay is also trimmed using means which are not drawn. The device 11 carries take-off plates 12 onto a mould container part such that, after turning over of the mould container part, the green bricks 13 come to lie on the plates after being released from the mould containers.\"},{\"$\":\"[0014]    Edge-forming means 22 are arranged between device 9 and device 11. The edge-forming means move each mould container part 4 such that a protruding edge forms on the upper side of the green bricks received therein.\"},{\"$\":\"[0015]    Figure 2 shows in more detail the part of apparatus 1 comprising edge-forming means 22. In the shown preferred embodiment, the edge-forming means 22 comprise a frame 26 which spans mould container part 4. Frame 26 is provided on either side with stop members 27 which are situated at the position of side walls 30 of the mould container part. The distance between stop members 27 is greater than the length of the mould container part. Frame 26 can be moved reciprocally by means of drive 31 as designated by means of arrow B. In preference the direction of movement B of frame 26 lies substantially transversely of the transporting direction T of conveyor 3. By moving frame 26 repeatedly the stop members 27 strike alternately against the side walls 30 of the mould container part 4 which is spanned at that moment by frame 26. As a result the relevant mould container part is as it were shaken back and forth, whereby the green bricks 13 situated during operation in mould containers 21 of mould container part 4 rise a certain distance in the mould containers. This results in the intended edge forming on the upper side of each green brick.\"},{\"$\":\"[0016]    Drive 31 is preferably an eccentric drive which can subject heavy components to a smooth movement owing to a good distribution of forces. The eccentric drive can for instance be adjusted such that the moment a stop member comes up against one of the side walls of a mould container part, the maximum force is exerted by the drive on this mould container part.\"},{\"$\":\"[0017]    Each mould container part 4 is coupled with some clearance to conveyor 3 in the direction of movement B. In the shown preferred embodiment each mould container part is even disengageably coupled to an associated chain part 15 of chain conveyor 3. The coupling of both parts takes place using the bolt-nut connections 16, 17 respectively. Bolt holes 33 are given an oval form in order to create the necessary clearance. Chain part 15 of chain conveyor 3 comprises ears 18, 19, 20 which serve as links of the chain conveyor. It is noted that instead of a chain conveyor many other conveyors known in the field can be used.\"},{\"$\":\"[0018]    Figure 3 shows edge-forming means 22 in even more detail. So as to prevent damage, stop members 27 are provided with stop surfaces 28 and corresponding stop surfaces 29 are arranged on side walls 30 of the mould container parts. The stop surfaces are preferably of plastic.\"},{\"$\":\"[0019]    Each mould container part 4 is further provided at both sides with spacer members 32 on walls 30. These spacer members protrude slightly above the mould container part itself, so that take-off plates 12 can rest thereon without damaging the edge which has just been formed on green bricks 13. It has been found in practice that the form of green bricks 13, including the edge, is retained after the mould container part has been turned over.\"},{\"$\":\"[0020]    Figure 4 shows a first preferred embodiment of a mould container part 4 and a chain part 15 in uncoupled situation. The different mould containers 21 are combined to a unit on mould container part 4. It is noted that the use of edge-forming means 22 has the further important advantage that additional means for releasing the green bricks from the mould containers are no longer necessary. An example of such releasing means known in the field are bottoms 23 displaceable by means of ejectors 24 such as are arranged in the second preferred embodiment shown in figure 5. This ejector lies under bias of spring 25 which centres the ejector such that no separate guiding is necessary in chain part 15. Ejector 24 is operated by a per se known driving device (not shown) during release of the green bricks. These releasing means are used by applicant in a number of their apparatuses and are the subject of the patent NL-C-1000186 in the name of applicant. Figure 5 shows how with some modifications the mould container parts and chain parts of the known apparatus can be used in combination with the edge-forming means according to the invention. The modifications relate to enlargement of the holes 34 for ejectors 24 such that mould container part 4 is coupled to chain part 15 with some clearance in the direction of movement B. Holes 34 can for instance be oval for this purpose. It is noted that the multi-part mould container part as described in applicant\\'s non-prepublished patent application NL-A-1007600 can also be made suitable in like manner for use in an apparatus provided with the edge-forming means according to the invention.\"},{\"$\":\"[0021]    Finally, figure 6 shows a wall 35 which is built from bricks 36 provided with a protruding edge 37 by using the apparatus according to the invention. It is possible to imagine that an exceptional shadow effect can be caused by sunlight incident upon the wall.\"},{\"$\":\"[0022]    The present invention is of course not limited to the described and illustrated embodiment but comprises all embodiments which fall within the scope of the appended claims.\"}]}}}}}']"
            ]
          },
          "metadata": {
            "tags": []
          },
          "execution_count": 29
        }
      ]
    },
    {
      "cell_type": "code",
      "metadata": {
        "id": "Bt6lPkGEaDyJ",
        "colab": {
          "base_uri": "https://localhost:8080/"
        },
        "outputId": "ec4f33fa-0e8c-4863-f652-fed67ecbcb03"
      },
      "source": [
        "getBiblio(search='mobile')"
      ],
      "execution_count": 30,
      "outputs": [
        {
          "output_type": "execute_result",
          "data": {
            "text/plain": [
              "[200,\n",
              " b'{\"ops:world-patent-data\":{\"@xmlns\":{\"ops\":\"http://ops.epo.org\",\"$\":\"http://www.epo.org/exchange\",\"xlink\":\"http://www.w3.org/1999/xlink\"},\"ops:biblio-search\":{\"@total-result-count\":\"10000\",\"ops:query\":{\"$\":\"txt = mobile\",\"@syntax\":\"CQL\"},\"ops:range\":{\"@begin\":\"1\",\"@end\":\"25\"},\"ops:search-result\":{\"ops:publication-reference\":[{\"@system\":\"ops.epo.org\",\"@family-id\":\"59657283\",\"document-id\":{\"@document-id-type\":\"docdb\",\"country\":{\"$\":\"ES\"},\"doc-number\":{\"$\":\"2800180\"},\"kind\":{\"$\":\"T3\"}}},{\"@system\":\"ops.epo.org\",\"@family-id\":\"73838861\",\"document-id\":{\"@document-id-type\":\"docdb\",\"country\":{\"$\":\"AU\"},\"doc-number\":{\"$\":\"2020102991\"},\"kind\":{\"$\":\"A4\"}}},{\"@system\":\"ops.epo.org\",\"@family-id\":\"73838858\",\"document-id\":{\"@document-id-type\":\"docdb\",\"country\":{\"$\":\"AU\"},\"doc-number\":{\"$\":\"2020203448\"},\"kind\":{\"$\":\"A1\"}}},{\"@system\":\"ops.epo.org\",\"@family-id\":\"68697833\",\"document-id\":{\"@document-id-type\":\"docdb\",\"country\":{\"$\":\"AU\"},\"doc-number\":{\"$\":\"2019276336\"},\"kind\":{\"$\":\"A1\"}}},{\"@system\":\"ops.epo.org\",\"@family-id\":\"73838780\",\"document-id\":{\"@document-id-type\":\"docdb\",\"country\":{\"$\":\"AU\"},\"doc-number\":{\"$\":\"2020103034\"},\"kind\":{\"$\":\"A4\"}}},{\"@system\":\"ops.epo.org\",\"@family-id\":\"68533844\",\"document-id\":{\"@document-id-type\":\"docdb\",\"country\":{\"$\":\"AU\"},\"doc-number\":{\"$\":\"2019268319\"},\"kind\":{\"$\":\"A1\"}}},{\"@system\":\"ops.epo.org\",\"@family-id\":\"73838739\",\"document-id\":{\"@document-id-type\":\"docdb\",\"country\":{\"$\":\"AU\"},\"doc-number\":{\"$\":\"2020102956\"},\"kind\":{\"$\":\"A4\"}}},{\"@system\":\"ops.epo.org\",\"@family-id\":\"57046548\",\"document-id\":{\"@document-id-type\":\"docdb\",\"country\":{\"$\":\"AU\"},\"doc-number\":{\"$\":\"2020277235\"},\"kind\":{\"$\":\"A1\"}}},{\"@system\":\"ops.epo.org\",\"@family-id\":\"65723159\",\"document-id\":{\"@document-id-type\":\"docdb\",\"country\":{\"$\":\"JP\"},\"doc-number\":{\"$\":\"2020537840\"},\"kind\":{\"$\":\"A\"}}},{\"@system\":\"ops.epo.org\",\"@family-id\":\"73838576\",\"document-id\":{\"@document-id-type\":\"docdb\",\"country\":{\"$\":\"JP\"},\"doc-number\":{\"$\":\"2020205617\"},\"kind\":{\"$\":\"A\"}}},{\"@system\":\"ops.epo.org\",\"@family-id\":\"65633396\",\"document-id\":{\"@document-id-type\":\"docdb\",\"country\":{\"$\":\"JP\"},\"doc-number\":{\"$\":\"2020537833\"},\"kind\":{\"$\":\"A\"}}},{\"@system\":\"ops.epo.org\",\"@family-id\":\"65809983\",\"document-id\":{\"@document-id-type\":\"docdb\",\"country\":{\"$\":\"JP\"},\"doc-number\":{\"$\":\"2020537842\"},\"kind\":{\"$\":\"A\"}}},{\"@system\":\"ops.epo.org\",\"@family-id\":\"65634680\",\"document-id\":{\"@document-id-type\":\"docdb\",\"country\":{\"$\":\"JP\"},\"doc-number\":{\"$\":\"2020537836\"},\"kind\":{\"$\":\"A\"}}},{\"@system\":\"ops.epo.org\",\"@family-id\":\"66174307\",\"document-id\":{\"@document-id-type\":\"docdb\",\"country\":{\"$\":\"JP\"},\"doc-number\":{\"$\":\"2020537846\"},\"kind\":{\"$\":\"A\"}}},{\"@system\":\"ops.epo.org\",\"@family-id\":\"66173114\",\"document-id\":{\"@document-id-type\":\"docdb\",\"country\":{\"$\":\"JP\"},\"doc-number\":{\"$\":\"2020537853\"},\"kind\":{\"$\":\"A\"}}},{\"@system\":\"ops.epo.org\",\"@family-id\":\"65811059\",\"document-id\":{\"@document-id-type\":\"docdb\",\"country\":{\"$\":\"JP\"},\"doc-number\":{\"$\":\"2020537831\"},\"kind\":{\"$\":\"A\"}}},{\"@system\":\"ops.epo.org\",\"@family-id\":\"65634565\",\"document-id\":{\"@document-id-type\":\"docdb\",\"country\":{\"$\":\"JP\"},\"doc-number\":{\"$\":\"2020537838\"},\"kind\":{\"$\":\"A\"}}},{\"@system\":\"ops.epo.org\",\"@family-id\":\"65634657\",\"document-id\":{\"@document-id-type\":\"docdb\",\"country\":{\"$\":\"JP\"},\"doc-number\":{\"$\":\"2020537834\"},\"kind\":{\"$\":\"A\"}}},{\"@system\":\"ops.epo.org\",\"@family-id\":\"65524724\",\"document-id\":{\"@document-id-type\":\"docdb\",\"country\":{\"$\":\"JP\"},\"doc-number\":{\"$\":\"2020537830\"},\"kind\":{\"$\":\"A\"}}},{\"@system\":\"ops.epo.org\",\"@family-id\":\"66173169\",\"document-id\":{\"@document-id-type\":\"docdb\",\"country\":{\"$\":\"JP\"},\"doc-number\":{\"$\":\"2020537855\"},\"kind\":{\"$\":\"A\"}}},{\"@system\":\"ops.epo.org\",\"@family-id\":\"65634568\",\"document-id\":{\"@document-id-type\":\"docdb\",\"country\":{\"$\":\"JP\"},\"doc-number\":{\"$\":\"2020537837\"},\"kind\":{\"$\":\"A\"}}},{\"@system\":\"ops.epo.org\",\"@family-id\":\"65723396\",\"document-id\":{\"@document-id-type\":\"docdb\",\"country\":{\"$\":\"JP\"},\"doc-number\":{\"$\":\"2020537832\"},\"kind\":{\"$\":\"A\"}}},{\"@system\":\"ops.epo.org\",\"@family-id\":\"65723241\",\"document-id\":{\"@document-id-type\":\"docdb\",\"country\":{\"$\":\"JP\"},\"doc-number\":{\"$\":\"2020537857\"},\"kind\":{\"$\":\"A\"}}},{\"@system\":\"ops.epo.org\",\"@family-id\":\"73837151\",\"document-id\":{\"@document-id-type\":\"docdb\",\"country\":{\"$\":\"JP\"},\"doc-number\":{\"$\":\"2020205619\"},\"kind\":{\"$\":\"A\"}}},{\"@system\":\"ops.epo.org\",\"@family-id\":\"56550211\",\"document-id\":{\"@document-id-type\":\"docdb\",\"country\":{\"$\":\"RU\"},\"doc-number\":{\"$\":\"2738924\"},\"kind\":{\"$\":\"C1\"}}}]}}}}']"
            ]
          },
          "metadata": {
            "tags": []
          },
          "execution_count": 30
        }
      ]
    },
    {
      "cell_type": "code",
      "metadata": {
        "id": "WwvvjhccW_mD",
        "colab": {
          "base_uri": "https://localhost:8080/"
        },
        "outputId": "7c6b5afb-7522-4a3a-b543-b5433a31dcd4"
      },
      "source": [
        "getImagesForDocument(\"published-data/images/EP/1000000/PA/firstpage\")"
      ],
      "execution_count": 31,
      "outputs": [
        {
          "output_type": "execute_result",
          "data": {
            "text/plain": [
              "[200,\n",
              " b'\\xff\\xd8\\xff\\xe0\\x00\\x10JFIF\\x00\\x01\\x02\\x00\\x00\\x01\\x00\\x01\\x00\\x00\\xff\\xdb\\x00C\\x00\\x10\\x0b\\x0c\\x0e\\x0c\\n\\x10\\x0e\\r\\x0e\\x12\\x11\\x10\\x13\\x18(\\x1a\\x18\\x16\\x16\\x181#%\\x1d(:3=<9387@H\\\\N@DWE78PmQW_bghg>Mqypdx\\\\egc\\xff\\xdb\\x00C\\x01\\x11\\x12\\x12\\x18\\x15\\x18/\\x1a\\x1a/cB8Bcccccccccccccccccccccccccccccccccccccccccccccccccc\\xff\\xc0\\x00\\x11\\x08\\x00\\xbd\\x01@\\x03\\x01\"\\x00\\x02\\x11\\x01\\x03\\x11\\x01\\xff\\xc4\\x00\\x1f\\x00\\x00\\x01\\x05\\x01\\x01\\x01\\x01\\x01\\x01\\x00\\x00\\x00\\x00\\x00\\x00\\x00\\x00\\x01\\x02\\x03\\x04\\x05\\x06\\x07\\x08\\t\\n\\x0b\\xff\\xc4\\x00\\xb5\\x10\\x00\\x02\\x01\\x03\\x03\\x02\\x04\\x03\\x05\\x05\\x04\\x04\\x00\\x00\\x01}\\x01\\x02\\x03\\x00\\x04\\x11\\x05\\x12!1A\\x06\\x13Qa\\x07\"q\\x142\\x81\\x91\\xa1\\x08#B\\xb1\\xc1\\x15R\\xd1\\xf0$3br\\x82\\t\\n\\x16\\x17\\x18\\x19\\x1a%&\\'()*456789:CDEFGHIJSTUVWXYZcdefghijstuvwxyz\\x83\\x84\\x85\\x86\\x87\\x88\\x89\\x8a\\x92\\x93\\x94\\x95\\x96\\x97\\x98\\x99\\x9a\\xa2\\xa3\\xa4\\xa5\\xa6\\xa7\\xa8\\xa9\\xaa\\xb2\\xb3\\xb4\\xb5\\xb6\\xb7\\xb8\\xb9\\xba\\xc2\\xc3\\xc4\\xc5\\xc6\\xc7\\xc8\\xc9\\xca\\xd2\\xd3\\xd4\\xd5\\xd6\\xd7\\xd8\\xd9\\xda\\xe1\\xe2\\xe3\\xe4\\xe5\\xe6\\xe7\\xe8\\xe9\\xea\\xf1\\xf2\\xf3\\xf4\\xf5\\xf6\\xf7\\xf8\\xf9\\xfa\\xff\\xc4\\x00\\x1f\\x01\\x00\\x03\\x01\\x01\\x01\\x01\\x01\\x01\\x01\\x01\\x01\\x00\\x00\\x00\\x00\\x00\\x00\\x01\\x02\\x03\\x04\\x05\\x06\\x07\\x08\\t\\n\\x0b\\xff\\xc4\\x00\\xb5\\x11\\x00\\x02\\x01\\x02\\x04\\x04\\x03\\x04\\x07\\x05\\x04\\x04\\x00\\x01\\x02w\\x00\\x01\\x02\\x03\\x11\\x04\\x05!1\\x06\\x12AQ\\x07aq\\x13\"2\\x81\\x08\\x14B\\x91\\xa1\\xb1\\xc1\\t#3R\\xf0\\x15br\\xd1\\n\\x16$4\\xe1%\\xf1\\x17\\x18\\x19\\x1a&\\'()*56789:CDEFGHIJSTUVWXYZcdefghijstuvwxyz\\x82\\x83\\x84\\x85\\x86\\x87\\x88\\x89\\x8a\\x92\\x93\\x94\\x95\\x96\\x97\\x98\\x99\\x9a\\xa2\\xa3\\xa4\\xa5\\xa6\\xa7\\xa8\\xa9\\xaa\\xb2\\xb3\\xb4\\xb5\\xb6\\xb7\\xb8\\xb9\\xba\\xc2\\xc3\\xc4\\xc5\\xc6\\xc7\\xc8\\xc9\\xca\\xd2\\xd3\\xd4\\xd5\\xd6\\xd7\\xd8\\xd9\\xda\\xe2\\xe3\\xe4\\xe5\\xe6\\xe7\\xe8\\xe9\\xea\\xf2\\xf3\\xf4\\xf5\\xf6\\xf7\\xf8\\xf9\\xfa\\xff\\xda\\x00\\x0c\\x03\\x01\\x00\\x02\\x11\\x03\\x11\\x00?\\x00\\xf4\\n(\\xa2\\x80\\n(\\xa2\\x80\\n(\\xa2\\x80\\n(\\xa2\\x80\\n(\\xac\\xfdJ\\xf6X\\x1d\"\\xb71+\\xb2\\x93\\xbe\\\\\\xed\\x1f\\x95\\x00hQXK};\\x0f*\\xe2w\\x8c\\x92P\\x95\\xdb\\x95 \\x81\\x9c\\xe3\\x04s\\xf8`\\xf3U,R\\xe2+\\xa8\\xe6\\x96w\\xf2%\\xe5\\x89\\'sw\\x1d\\xf3\\x8f\\xa5\\x00o\\xdf<\\x91\\xc7\\x1f\\x94\\xc5X\\xca\\x8b\\xd3<\\x123\\xdb\\xd3\\xe9\\xf5\\xa9-L\\x86\\xda#7\\xfa\\xc2\\x80\\xb7\\x18\\xe7\\x1c\\xf1U\\x0c\\xd0,\\x8a-\\x91\\xee\\xa6\\xdb\\xb9~}\\xc1G\\xaeX\\xe0\\x7f:\\x8a;\\xbb\\xab\\x8b\\xd9-e\\x95-\\x1dpB\\xa2\\xeef\\x1e\\xc4\\xf1\\xdb\\xd2\\x805h\\xaa\\xf1\\\\ \\xb5\\x86Id\\x00\\xba\\x03\\x93\\xc6N)d\\xb8\\x84\\xdb\\xbb\\xac\\xa8\\xc0\\x03\\xd1\\xc0\\xc9\\xf4\\xcfj\\x00\\x9e\\x8a\\xa9c\\x14\\xa8\\x0bJ\\xcer\\x88>f\\'\\x909=N:\\xfe\\x95n\\x80\\n(\\xa2\\x80\\n(\\xa2\\x80\\n(\\xa2\\x80\\nJZ(\\x00\\xa2\\x8a(\\x00\\xa2\\x8a(\\x00\\xa2\\x8a(\\x00\\xa2\\x8a(\\x00\\xa2\\x8a(\\x00\\xa2\\x8a(\\x00\\xa2\\x8a(\\x00\\xa2\\x8a(\\x00\\xa2\\x8a(\\x00\\xa2\\x8a(\\x00\\xa2\\x8a(\\x03.K\\xd9%3F\\xb2\\x08\\x9d\\x19\\x94\\x05\\x1b\\x8f\\x1d3\\xdf\\xdf\\xa7\\xe3U.\\x15/b\\x88\\x97h\\xe7\\\\\\xed+&\\xe0\\xff\\x00C\\x9ey\\xf4\\xf7\\xab\\x17k/\\xda$\\x92\\xee\\xda9\"\\xe1T\\x80x\\x00\\x93\\x92G#\\xaf\\xa56\\x15\\x87n-\\x9d6\\xb7&)\\xd4\\x10O\\xfb\\xde\\xbe\\xd4\\x01$0\\xcf\\x1d\\x83\\xc2\\xd6\\xe2PA;\\x87\\x04\\x9f\\xa1\\xff\\x00\\xeb}\\rgK\\x0cv\\xc9\\x07\\xd9q\\xe7Hp\\xf1\\xc8\\xd8\\xe7\\xa1\\xf7\\x1ds\\x8e\\xf5\\xa0\\x97\\x92\\xc3w\\xe4\\xcf\\xfb\\x9c\\x8c\\x85c\\xe6\\x0cg\\x8ez\\xfa\\xfbU\\xa71\\\\*\\x1b\\x88\\x03\\x00~WO\\x9c\\x03\\xecG#\\xeb\\xc5\\x00cG\\x15\\xe4\\x0b *Q\\xd5vI\\xe4\\x02\\xe1\\x01\\xc1\\xf9z\\x9c\\xe3\\xd8\\xf5\\xa6i\\xf7\\x0b\\x04\\x91<[Be\\x9aD\\xf3\\xb2\\xc5\\xb6\\xfat\\xfc\\xb3\\xc5Z\\x9fU\\xfe\\xcd\\xb9\\xdf,2\\x98\\xa5\\xc2\\x89\\x1c\\x8e\\x80\\xe0r3\\xeaz\\xfbsR\\xde\\xec\\x83G\\xb6\\xdb\\n\\xb3\\xb9]\\xbf\\xc3\\x86*y\\xfa\\xd0\\x04\\x1a]\\xe9\\xbb\\x99\\xa1C\"\\xcd\\x1c*\\xa8\\x17\\x01B\\x8e\\xf99\\xf5\\x1d\\xbbt\\xadK9<\\xd9%Y|\\xa6\\x9a\\x17\\xdaY\\x078\\xda\\x0f\\xf5\\xc5g\\xe9\\xf0\\xad\\xc7\\x9b\"\\xc1\\x10\\x97\\x81\"n\\xc0`y\\xea\\xbf\\xd4\\x1f\\xadH\\x96V\\xf6\\xf3\\xac\\x90\\xabZ\\xc8\\x0eq(\\xdc\\xa7\\xfe\\x04\\x0f\\xf5\\xfc(\\x03b\\x8a\\xaenZ4\\xddq\\x0b.\\x07&<\\xb8\\xfd9\\xfd*\\xad\\xdd\\xdc\\xe6\\xd5\\x9e\\xdd\\xa3B\\xdc\\'!\\xd9\\x8f\\xb0\\x1c\\x7f:\\x00\\xbf$\\xb1\\xc2\\xbb\\xa5uA\\xea\\xc7\\x15\\x01\\xbb\\xf9|\\xcf,\\xa4#\\xab\\xcavg\\xe8\\x0f?\\x9e*\\x96\\x9d,\\xb7\\x19\\xccK\\x15\\xc2\\x8d\\xb2I\\'\\xcc\\xc4\\xfb\\x0c\\xf0?\\x1f\\xc2\\xac#B$\\xcc*\\xf7s\\xaeG\\x98NB\\x9e\\xff\\x007A\\xf4\\x1f\\x95\\x00Y\\xb6\\xb8K\\x98\\xf7\\xc7\\xbb\\x00\\xe0\\x86\\x18 \\xd4\\xd5\\x15\\xbaH\\xaa\\xc6]\\xbb\\xd9\\xb7\\x10\\xa7 {\\n\\x96\\x80 \\x96\\xee\\x08_d\\xb2\\x05ln\\xc1\\xf4\\xf5\\xa9\\xea\\x95\\xe5\\xb6\\xe9<\\xe3#\\xe0\\xecR\\xa3\\x18\\x006}=\\xf9\\xfaU\\xda\\x00(\\xa2\\x8a\\x00(\\xa2\\x8a\\x00(\\xa2\\x8a\\x00(\\xa2\\x8a\\x00(\\xa2\\x8a\\x00(\\xa2\\x8a\\x00(\\xa2\\x8a\\x00(\\xa2\\x8a\\x00(\\xa2\\x8a\\x00(\\xa2\\x8a\\x00)\\x82D2\\x18\\xc3\\xa9p2W<\\x8f\\xc2\\x9b%\\xc418I%Db\\x0b\\x00\\xcc\\x07\\x03\\xa9\\xfdE@\\xb3!\\xb9y`\\r1tU\\xf9\\x07\\xca0O\\xf1t\\xfe*\\x00\\xb9E5\\x0b\\x14\\x05\\xd4+w\\x00\\xe7\\x14\\xea\\x00*\\xb4\\xf60LK\\x15\\xd8\\xfc\\xfc\\xe8py\\xebVi\\x19\\x82\\x82X\\x80\\x07s@\\x18\\xd2iwp\\xcc\\xb2\\xc12J\\x14\\xfd\\xc7\\\\q\\xd8\\x0fjT\\x92$r\\x19^\\xd6_T\\x18\\xcf\\xd5O\\xf2\\x19\\xad;\\x9b\\xa8-S}\\xc4\\xab\\x1a\\xf6\\xc9\\xeb\\xf4\\xf5\\xac\\x99\\xb5W\\xbeF[\\x0b#p\\x8b\\x9c\\xbb\\x8f\\x97\\x8fC\\xd3\\xfa\\xd0\\x03d\\xb6(\\xf7\\x13\\xe2\\x19\\xe3d\\xda\\xed\\x10\\n\\xea9\\xcf^\\x99\\xf4\\x1c\\xd5-V\\xf6y`\\xb5\\x84b2\\x8a\\xaeT|\\xc4\\x1f_\\\\`\\x8e\\xd5d\\xdb\\xc1-\\x9c3jwq\\xc3\\x01\\x03lI\\xf2\\xf7\\xe9\\x93\\xc9\\xfc1UF\\x9fm~\\x8d&\\x9f\\x07\\xd9\\xfc\\x97`\\xd7\\x05\\xf6\\x91\\x83\\xd3o\\\\\\xe3\\x1dq@\\x164\\xdb\\x1dN&\\xfbL\\xd7\\x89k\\x06\\x01 \\xaa\\x9d\\xc0\\x0cr:\\x0e\\x00\\xe7\\xadiY\\xea\\x13\\xce\\xd2~\\xe3\\xce\\x89O\\x13E\\xc0q\\xec\\t\\xe7\\xf3\\xaefC=\\xad\\xdcq4\\x90\\xdf\\xb1\\xc3,Hr\\xca{\\xe5y\\x19\\xe7\\xb8\\'\\xde\\xb4\\x06\\xbb\\xf6\\x89\\xbc\\xab\\xb9\\xcd\\xa2\\x0e\\n\\xa7\\xc8\\xe7\\xeaO\\x03\\xf09\\xa0\\r\\xc8\\x1a\\xdaRV\\xd6_)\\xd7\\xacc\\x82\\xbfT=?*W\\x89\\xc4\\x9ec\\xc2\\xb261\\xe6Dv?\\xd3\\x93\\xd3\\xf1\\xfc+)nm\\xeeS\\xec\\x9a=\\x9aHq\\x9f:A\\xb5W\\xfd\\xac\\x9f\\x98\\x9a\\xb6\\xd2I\\xa6[\\x97\\xba\\xd4#\\'\\xef\\x14u$\\x01\\xed\\xd5\\xbf\\x13\\x9a\\x00\\x86\\xeb\\xec\\x89u\\xe6K\\'\\x9c\\xec1\\xe4:\\xec?R\\x00\\xe7\\xafqZq\\xdc\\xc4\\x11w)\\x84``8\\xc0\\xc7\\xd7\\xa7\\xe1X\\xa9\\xa8\\xc5s\\xa9\\x8f\\x90\\x94t\\x05\\xf2\\xb9L\\x02\\x06\\xe0H\\x1cs\\xd7\\x8a\\xd9\\x8d\\t]\\xf6\\xd7\\x1b\\xd0\\xf4\\x0cw\\xaf\\xe7\\xd7\\xf5\\xa0\\x0b\\x14\\xb5H\\x8f+\\xefF\\xf6\\xe7\\xfb\\xd0\\x9d\\xc9\\xf9c\\xf5#\\xf1\\xa6\\xdbj\\x1e{\\xb2\\xc6\\x04\\xea?\\x8d\\x063\\xf8\\x1f\\xa8\\xef\\xde\\x80,_qcq\\x90H\\xf2\\xdb\\xa0\\xc9\\xe9RF\\xe2X\\xd2E\\xfb\\xac\\x03\\x0c\\xfa\\x1aj\\xcf\\x13\\x9d\\x9b\\xb0\\xc7\\xf8\\x18`\\xfeF\\x9e\\x88\\xb1\\xa2\\xa2\\x8c*\\x80\\x07\\xd2\\x80\\x1dECss\\r\\xa4&Y\\xdfdc\\xab`\\x90>\\xb8\\xaa\\xf6\\xba\\xbe\\x9dy0\\x86\\xda\\xf2)d \\x90\\x8a\\xdc\\xe0u\\xa0\\x0b\\xd4U=N\\xed\\xac\\xad\\x84\\xaa\\x14\\x9c\\xe3\\x0c}\\x89\\xf5\\xf6\\xff\\x00\\xf5\\xf4\\xab\\x94\\x00RR\\xd1@\\x05\\x14Q@\\x05\\x14Q@\\x05\\x14Q@\\x05\\x14Q@\\x05\\x14Q@\\x05\\x14Q@\\x05%-\\x14\\x01B-&\\xdd/\\x8d\\xe4\\x85\\xe7\\x9f\\x18\\r)\\x07\\x1fA\\x8c\\n\\xbfE%\\x00#\\x9c!9\\xc7\\x1d}*\\x0b9\\xcc\\xb0F%a\\xe7\\x15\\xdcW\\xbe3\\xd6\\xac\\x02\\x18\\x02\\x08 \\xf4\"\\xb3\\xe7\\xbc\\x8a;\\xd9\\x1d\\xd8\\x95\\xb7M\\xa5QK6[\\x07\\xb7lc\\xf34\\x01f\\xf6\\xf6\\xde\\xc2\\x03-\\xc4\\x81\\x17\\xb0\\xee~\\x82\\xb2\\x96\\xf6\\xf7Us\\x1d\\xbd\\xaa\\xa4\\x03\\r\\xbeR@>\\x9cw\\x07\\xda\\xaax\\x92V\\x9e\\xd6)\\x08E\\x8ah\\xc9S\\xbb,\\xb8\\xe4\\x1fL\\x1c\\x8c\\xfd\\x05\\\\\\x9bP\\xb7\\xb1\\x86\\xde8q-\\xde\\xc4B#\\x05\\x8e\\x14{u<\\xf4\\xcd\\x00R\\xbcy|\\xbbH\\xaf\\xe1\\x8e\\xe5\\n~\\xec\\xc0\\tl\\x1crW9\\xfcA\\xa5\\x81\\xee<\\xb6\\x8fN\\xbdb\\x01!\\xa3<\\xb2\\xf3\\xd3\\x04e\\x7f\\xef\\x93\\xf5\\xab/\\x04\\xdeT0Y\\xb2H\\xf0\\xaer\\x99\\x8e@\\x01\\x07\\x079\\xea{\\x11\\xfc\\xaa;\\rJ\\x01y\\xe6\\xb2\\xa8\\x94\\x82\\xb24\\x85\\x83\\x91\\x9e\\x83q\\xc63\\xe8y\\xf4\\xa0\\x06\\xc3\\xa8Ab\\xbed\\x96L\\xd7$\\xed\\x13;\\xee\\x0cs\\x8f\\xbf\\xce:\\xf4\\x19\\xabio\\x0bG%\\xcd\\xe5\\xdc)\\x14\\x872$\\r\\xb1\\t\\xff\\x00h\\xf5\\'\\xf2\\xfaU\\xc9\\r\\x95\\xdc\\xdeI\\xff\\x00Z\\xeaI\\xc0\\xc3`c\\xaf\\xe7\\xd0\\xf1Y\\xd7^\\x1e\\xf9\\x84\\x96\\xe5I^\\x8aW\\x8f\\xcb\\xa7\\xe06\\xd0\\x02\\xab\\xc7{$?\\xd9vXKf\\xcaL\\xc3d~\\xf8\\x1dOJ\\x9e\\xebL\\x8aR\\x92j\\x12}\\xa2B\\xc0s\\xf2*\\x8c\\xe4\\xe0\\x0f\\xeb\\x9a\\xcc\\x8e\\xfbP\\xb3\\x81\\xa1\\x8a8\\xdb,I(\\xa4\\x10{\\x9c}}\\x01\\x1dy\\xab\\x16qi\\xf7\\x98\\xb8\\xbf\\xbaI\\xe4_\\xe1q\\xb5A\\xfcI\\xdd\\xf9\\x9f\\xa0\\xa0\\nM\\xa7\\x00\\xe1\\xb4YehT\\x81\\xb9\\xb1\\xe5\\xe4\\x9c\\r\\xa7\\xb9\\xf7\\x03\\xf1\\xa8\\xd2\\xe2\\xe2\\xca\\xef\\xce\\xbf\\xb3i\\x86H\\x0cr\\xc8\\x088\\xe3\\xdf\\xaf?5j\\xc9u*K.\\xd5\\xce\\xe9\\x10\\xc5\\x11\\x07v\\xd5\\xc1\\x03h\\xfb\\xbd\\xcf<\\xfbS\\xec\\xa0\\x9a\\xee\\x03\\x15\\xcc\\xa68 \\xfd\\xdbD:\\xb1\\x00d\\xb1\\xff\\x00?\\x85\\x00G\\xfd\\xb9\\x15\\xd4\\x9b\\xad@\\xf3\\nc+\\xd7\\x1fS\\xf7G\\xb9\\x15f\\xd6\\xc0\\x80n\\xa7\\xb9\\xf2\\xf3\\x96\\xfd\\xd3``\\xfa\\x9f\\xe2\\xfck>\\xd3C\\xb7\\xb9\\xb5\\x92\\xe6r!\\xcc\\xae\\xd1\\xb2\\xe4l@p2I\\xf6\\xce{\\xe6\\xb3?\\xd3lf\\x06\\xd6\\xe3\\xedQ\\x19p\\x8f\"\\x1c3\\xe7\\xb7<\\x9e\\xdd\\xe8\\x03\\xa6\\x92\\xfeH\\x03n%\\xe1\\xc7\\xcb#)RO9\\xc1\\xc6\\x0f\\xe9\\x9e\\xd4\\xdd6Hf\\xb5\\x8b\\xcfS\\x1c\\xf8\\xda\\x0be\\x19\\x87l\\x1e\\xff\\x00\\x85c\\xdaj\\xa9\\x1c\\xfb\\xf5x\\xa4i\\xb2\\x06d\\x18\\x08}\\x00\\xe9\\xf9\\xe2\\xb5no\\x85\\xdd\\x9c\\x8c\\x93\\xc5\\x0cDc\\xe7M\\xec\\xdf\\x87L~\\x7fQ@\\x17\\xda)B\\xed\\xcaN\\x9f\\xdd\\x94`\\xfe`\\x7fO\\xc6\\xa3\\x0e#?~K\\x7fi~d\\xfc\\xf3\\xfadU[8\\xaf\\xdd\\x83\\xa3\\xac\\x11\\x01\\xd0\\xa1\\xc3\\xff\\x00\\xc0I\\xe3\\xf0#\\xf1\\xabF\\xf1\\xa3\\x9f\\xc8\\x94$\\xaf\\x82\\x7ft\\xc3?\\x8a\\x93\\x9e\\xfd\\xb3@\\x13y\\xae\\xa3\\xf7\\xb1\\xe4\\x7fz?\\x98~]\\x7f\\x9dPM\\x1a\\xc1\\xb5\\x15\\xbe\\xb6>[\\xa8*\\xcb\\x13m\\x07?N\\x86\\xadB-\\xa5\\xcf\\xd9e1\\xb2\\xf5T8\\xdb\\xf5C\\xd3\\xf2\\xcd+\\xc7.\\xe0\\xd2\\xc4\\x93`p\\xd1\\xfc\\x8e>\\x99?\\xd4P\\x03/M\\xd5\\xbd\\x94\\xf2A \\x91\\x966*\\x1d~l\\xe3\\x8cc\\xaf\\xd3\\x15KF\\xd7\\xfe\\xdb\\xb6\\x1b\\xc8\\x1e\\xde\\xe3$r\\xa4+}=+A%;\\x82\\xc77\\xcczG2\\xe1\\xbf\\x0e\\x87\\xf1\\xe6\\xa5\\x13\\x95\\xe2X\\xd9=\\xfa\\xaf\\xe7\\xfe8\\xa0\\t\\xa8\\xa6\\xab+\\xa8e`\\xcaz\\x10r\\r:\\x80\\n(\\xa2\\x80\\n(\\xa4\\x04\\x1c\\xe0\\xf4\\xeb@\\x0bE\\x14P\\x01E\\x14P\\x01E\\x14P\\x01E\\x14P\\x01IQ\\xcfq\\r\\xban\\x9aEA\\xfe\\xd1\\xebX\\x97\\x93\\xc6\\xb7/<\\x91K\\x14\\xd9\\xfd\\xd4\\x84\\x95\\x0c\\xbf\\xd3\\xd7\\x1f\\x98\\xa0\\r\\xf6!A,@\\x03\\xa95J\\xeaq=\\xb3\\xac\\x11\\xbc\\xe3\\x19;\\x07\\xca\\xc3\\xd3=\\xff\\x00\\x0c\\xd6}\\xb1\\x967\\x9e+\\xa4\\x92\\xf5\\xa3n\\x03\\x10\\xc1Gc\\x8f\\xcf\\xb6x\\xa2\\xd5\\x8a\\x8f\\xb35\\xc2\\xaa}\\xe2!}\\xc5=\\x8fB?\\x1e(\\x02\\xb4N\\xa6R-\\x85\\xc5\\xb2\\xc4\\x010\\x02\\xc8\\xcc\\xd99\\xc0\\xc7A\\xc6~_J\\xb4\\xd2\\xcd$\\x0c\\x91\\xc5\\x0c\\x10\\xb8\\xcc\\xb2B\\xa5\\xc8$wQ\\x82>\\xbc\\xfd(\\x96\\xd2\\xc5n\\xc7\\x92\\'\\xb8\\xb9x\\xf7(\\x8d\\xf8Q\\x9f\\xbd\\x9e\\x8b\\xce\\x7f\\xc2\\xa1\\xb8\\x17\\xd6\\x9c\\xdd\\xday\\xf0\\xed\\xda\\x1e6,\\xc8=\\t\\x00\\x1f\\xd2\\x80*\\xdfA4\\xb6Q\\xf9J$\\x8e5 <,]y\\xc7Przz\\xe2\\xa8\\xe9ZE\\xcd\\xdd\\xcf\\x9c\\xf2\\xc5\\x1cj\\xa4\\x13/-\\x8e9Q\\xd8{\\xd6\\xc4\\x1a\\x82^K\\x8bp\\xee\\xcc\\xbf$\\xbc+\\x92~\\x87\\x9czp)\\xf7\"3\\xfb\\xc5X\\xe5~\\xec?w \\xf7a\\x8c\\x1f\\xaf\\x1e\\xd4\\x01\\x187q7\\xcb*_\\xc6\\x9d\\x08\\xc9`;\\x90G\\xcd\\xf9n\\xa8\\x85\\xcd\\x9d\\xec\\xcc.#9\\xc6\\x0f\\x9f\\x85\\xc6\\x0f\\xf7\\x87\\x7f\\xf7\\x87n\\xb5s\\xed\\xd7\\x16\\xaa\\x8b\\x19VW\\x1f\\xbby\\x14\\xe0\\xe3\\xff\\x00\\x1e\\xe3=~j\\x8d\\x12\\xe2\\xf2D\\x97R6\\xf1\\xc69I\\x12?\\xbc>\\xa7\\xa7\\xe2\\x7f\\n\\x00\\xa9;\\xa5\\x9b\\x86\\xb4\\xfbP\\x8d\\x08\\x1e\\\\\\xaaYT\\x93\\xd9\\xba\\x81\\x8er\\xa4\\xe7\\xda\\xad[\\xeb?\\xbc\\x8d\\xe5y\\x02\\xaeW\\r\\xf7I>\\xe0`\\x9e:{\\xf2i\\xda\\xa6\\x9d\\xe5*\\xcb\\xb9\\xae\\x15\\xdd@\\xdc\\xdf0\\'\\x80C\\x7f\\xfa\\x87\\xd6\\xb3\\xde\\xdd\\xc9`C$\\x80`\\xac\\xbf#\\xe3\\xeb\\xd0\\x8f\\xae3\\xef@\\x1bP\\xcfg\\xb5\\x92@\\xd2\\xfd\\xa2\\xe0\\x90\\xa52\\x01>\\xfd8\\xf5\\x06\\x96\\xf3E\\x8a}\\xcd\\x19!\\xc8\\xc6X\\x9c\\xff\\x00\\xdf]\\x7f<\\x8fj\\xe7St7\\x0e\\x171;(\\xdc\\x8c\\xb8\\'\\x1d2\\xbd\\x08\\xfa`}j\\xfd\\xae\\xaf,_+1\\x1ct\\x1f0\\x1e\\xf8<\\x8f\\xc3\\x03\\xeb@\\x0e\\x86+\\xdd\\x1d\\x8b\\x04\\xf3\\x06\\xdc38\\xc9?\\xf0.\\x9f\\xaa\\xfd*9om\\xa7\\x92A43\\x9b\\x99\\xc8>W(\\x87\\x18\\x00\\xe0\\xf2x\\xc78\\xc5ki\\xfa\\x94-k\\x12I!b\\x10f\\\\\\xee\\r\\xeeOQ\\xf5 \\n|\\xf6V7,\"R\\x81\\x99w\\x85\\\\\\x15#\\xd7\\x1d?\\x1e\\xbe\\xf4\\x01Z\\xd7N\\xb6HD\\xd7SF\\xd1g+\\x1cm\\x88T\\xfb\\x0e\\xe6\\x9e\\xcc\\xbb\\xa2\\xba\\x9e\\xd9\\xe3\\x82\\x17vS\\xd3\\x1f\\xc2\\xa4)\\xe7\\x18\\xed\\x8c\\xe4\\xf4\\xaa\\x13XMi~\\xab\\x04\\xc4\\xca\\xca]B\\xe5\\xb0\\x07\\x04\\x9c\\x9c\\x8e\\xbe\\xad\\xf4\\xa6\\xc7v\\xe6b\\xfa\\xa2<\\xca\\x87\\x19S\\xf2\\xaf\\xd7\\xd3\\xf1\\xdb\\xf8\\xd0\\x06\\x85\\xd4\\xa3TS\\x15\\xb5\\xb0\\x90t\\xf3\\xa4R\\xa1}q\\xdf\\xfa\\xfb\\x1a\\xc2\\x83Go;\\xf7rys\\x19\\xde$\\x1bp\\xbc(=\\xf3\\xdb5\\xd1\\xad\\xf2\\\\FV\\xd2H\\xa0E\\\\\\xef|p=B\\xfa{\\xf4\\xfa\\xd6}\\xab]\\xe5\\xbc\\x87[\\x80\\xac\\xd24\\xf2G\\xb4+c\\x07\\x07\\xbf\\x19\\x1d(\\x02\\xac\\x9a\\x8e\\xa3\\xa7?\\x95~%\\x11\\x9c|\\xe8\\t\\xcf?\\x9f\\xe4x\\xf4\\xab#P\\x86\\xf5\\xbe\\xc9\\xba;x3\\x82\\x15w3\\x1f\\xa1\\x19\\x1f\\\\U\\x91\\x0c\\x11\\xc3\\x0c\\xd7.\\x1a\\xeec\\x1b1\\x94\\xf2\\x06\\xe0H\\x03\\xb0\\xebK\\xabX\\xe9{\\x07\\x9a\\x9bd?ub\\x1c\\x9c\\xfa\\x0f\\xff\\x00U\\x00O\\x146b!\\x15\\x9c\\t1_\\xe3\\xcf\\x00\\xfb\\xbf\\xaf\\xd3\\x9a\\x81/gI\\x8c6\\xfb\\xae\\x1c\\x1f\\xbb\\x9d\\xea\\x07\\xfb\\xfc\\x11\\xf8\\xe6\\xb1!\\xb6\\xd4Ri-\\xe3.\\xdbcW(\\xe0\\xe7o\\xa19\\xcf\\xe1Wm\\xf5\\xb9,G\\x915\\xb0B\\x07$\\x8cs\\xeaH\\x1d}\\x88\\xcf\\xbd\\x00nI:l\\xdbynUO\\xaa\\xefL\\xfdG\\xf5\\xc5!\\x1b-\\xdekY\\xf2\\xa1I\\x00\\x9d\\xeb\\xc7\\xeb\\xf9\\x1a\\xa1\\xfd\\xa1\\r\\xc0\\x0b\\x0b\\xbc\\xf3\\xc9\\xc7\\xdf\\xd8\\xab\\xf9\\x1f\\xeb\\xf8\\xd4\\xf1i\\x8a\\x89$\\xb7\\x97\\x0f\\xe6:\\x90\\xec\\xaf\\xb0\\x01\\xf8c?\\x8d\\x00E\\x02O#\\xa5\\xd4\\x920G\\xe4\\x9bu\\xcf\\xe7\\xdc\\xe0\\xfb\\x1a\\xd0\\x8eW9\\xf2\\xdd\\'\\x03\\xa8\\xfb\\xac>\\xbd\\xb3\\xf9Vm\\xad\\xf4V\\x8d,\\x11J%\\x8a3\\xc6\\xf0U\\xbdH\\x07\\x18?\\xa5^K\\x8b[\\xa5Gu1\\xb1\\xe1L\\x83i\\xfc\\x1b\\xfc\\r\\x00N.c\\xce$\\xdd\\x11\\xff\\x00l`~}\\x0f\\xe0jj\\xaeb\\x99\\x06\\x12A\"\\xff\\x00v_\\xf1\\x1f\\xd75\\x0b\\xe24m\\xaa\\xf6\\xce\\x07\\x04s\\x1e\\x7fP\\x07\\xe0\\r\\x00I\\xa8E\\xe7Z2\\x11\\x19\\\\\\x82\\xc5\\xce\\x00\\x1d\\xcfN\\xb8\\xa5\\xb1\\x86h );\\x87}\\xc4\\xe4{\\xfe\\x02\\xa2\\x8e\\x16\\n\\x1aL\\xdd\\x0e\\xbb\\x96C\\xf3{\\xed\\xce\\xda\\xb2\\x93\\xc6\\xec\\x146\\x1c\\xf3\\xb5\\x86\\x0f\\xe4h\\x02Z(\\xaa\\x1a}\\xb1\\x8c\\x89\\x0f\\x95\\x90\\xa5\\x7fvr2X\\x92>\\x83\\x80?\\x1a\\x00\\xbfE4\\xb2\\x87\\x00\\xb0\\x0c\\xdd\\x01=j\\xbc\\xd7\\x8a\\xb2\\x18\\xa1S4\\xdf\\xdd^\\x8b\\xf5=\\xa8\\x02\\xd5\\x15\\r\\xac\\x92I\\x16e\\xdb\\xe6\\x06*v\\xf4\\xe0\\xd4\\xd4\\x00QE\\x14\\x01\\x87\\xaa\\xe0Os\"O\\xb6D\\x8dA\\x8c\\x80\\xc1\\x81=\\xc63\\xe9\\xc8\\xa2x\\x87\\xf6\\x134\\x12\\xbb\\xb0\\x01W\\xcep\\x02\\xe0\\xe0\\x8e\\xc38\\xce\\x0f_z\\xd0\\xbd\\xd3m\\xef~g\\x05$\\x03\\x01\\xd0\\xe0\\xff\\x00\\xf5\\xe9\\xd6\\xf6\\x10[\\x9d\\xd82I\\x92w\\xc8rr};\\x0f\\xc3\\x14\\x01\\xce\\xc5\\'\\xd8wE$A\\x94c$\\x9d\\xac3\\xe8{z\\x90~\\x95\\xa1\\x03\\xa4\\xd3\\xbc\\xb1M#\\xca\\xc0\\x0c\\x12\\x12E\\x03\\xd0p\\x1b\\xd7\\xfckV\\xea\\xd2\\x1b\\xa4+*d\\xe3\\x01\\x87\\x04~5\\x91u\\xa4\\xcb\\x0c_\\xb9Q(^A\\x03\\r\\xf8\\x8e\\x9f\\x96>\\x94\\x00\\xf5_>YYcl\\xc6\\x7f\\xd6G\\x84\\x9b\\xeaP\\xff\\x00>\\t\\xf4\\xf5\\x81$\\x9d\\xa4[\\xb9e\\x9ahal2\\x13\\xb0\\xa6;\\xb2\\x8f\\xf3\\xf4\\xaa\\xf1\\xdd\\\\K\\xba\"Ax\\xc8P\\xf3\\x02$BO\\x18#\\x0c}q\\x8au\\xc4\\x9eR}\\xa1\\x84\\x8c\\xe80Zks\\x8e\\xdc\\x96\\x00\\x15l\\x8e\\xff\\x00\\x80\\xa0\\x0b7\\xab\\xa5\\xde[\\xfd\\xa9b\\x91d<\\xe6!\\xb4\\x93\\xe8OC\\xfa\\xe7\\xb5S\\x96\\x1b\\x88\\xe1\\x85o<\\xd6\\xf9\\x98\\xa4\\xac\\xd88\\xc7#\\x04q\\xeb\\x96\\x19\\xe3\\xdf\\x02\\xc5\\xa3,\\xa8\\xb2D\\xe6L\\xa8\\x1b.\\x1b\\'\\xdbk\\xfa\\x9e\\xdd\\x0fz\\x9do\\x04\\xb2\\xc6\\x8eY\\xccO\\x90\\x8f\\xf2\\xb8a\\xc6\\x03t=q\\xce\\x0f\\xb9\\xa0\\x0c\\xa1\\x0c\\xd6\\xa5\\x9a6\\xdf\\x160\\xc5\\x14\\x15\\xc7\\xfbJz~?\\x85Kk}\\xb3$;\\xc0wrc\\x1b\\x93\\xfe\\x04\\xa7\\x90\\x7f?\\xa5i\\x05\\x12k\\xf6\\xcd\\x0c\\x12\",l\\xd2e\\n\\x80O\\x1fJ\\xb3u\\xa3\\xdbNw\\xa0\\xf2d\\xf5N\\x07\\xe5\\xfe\\x18\\xcd\\x00d5\\xd4W1\\xcbo01G\\xc7\\xefm\\x984}\\xb0v\\x9e\\x87\\xe9\\x82k`M\\x1c\\x90\\x85\\xb9\\x8dfE\\xe3\\xcd\\x8f\\xe6\\x00\\xfb\\x8e\\xaa\\x7f\\x97\\xadb]i\\x97\\xb6o\\xe6*o\\x0b\\xd2H~\\xf7^r>\\x9fAQ\\xc7}\\xb1\\x81`\\xc8\\xd8\\xe2HT\\x83\\x8f]\\xbcq\\xf4\\xc0\\xf64\\x01\\xad.\\x93\\x1c\\xd1\\x06\\xb4\\x95e\\x84\\xf2#\\x90\\x86O\\xc0\\xf5\\x1f^\\xbe\\xf5\\x95q\\xa7\\xb4Gk\\xb4\\x90\\xb1<\\tF\\xf4\\'\\xd8\\x8eA\\xff\\x00\\xbe\\xb1W`\\xbdB\\xd2L\\x18\\xfc\\xb8-4\\x03\\x07\\xfe\\x06\\xa4c\\xf1 \\x1fJx\\xf1\\x1d\\xabFVh\\x9etn\\x03G\\x19\\xc3}Ct\\xfc\\xe8\\x03\\x00\\xac\\x96\\xae\\x81\\xa51I\\x80\\xc0\\xef\\x040\\xe9\\x90\\xc3\\xe9\\xd4\\xe4\\xfd*\\xd5\\xbd\\xfc\\xd6\\xd3\\x06l\\x86\\xc1\\x05\\x97\\nO~{\\x1f\\xc7\\'\\xda\\x9ds\\x043O\\xe4[#\\xb5\\xdb}\\xe4##>\\xde\\x80\\x0e=8\\xe9K&\\x92\\xd6\\x10\\xe6\\x7f9p9t_2>}\\xbb\\x0f|\\x8f\\xa5\\x00hYj1\\x9b\\xf9\\xaedm\\xee\\xca\\xa9\\xb7\\xee\\xb2\\x01\\xecN9\\xfa\\xe7\\xda\\xb4m\\xcc:\\x84*\\xf3\\xc6\\xabp\\x01\\x0c\\xa0\\xe1\\xd3\\x9e\\x9e\\xa2\\xb9O!\\x98\\t#\\x1ej\\x01\\x9d\\xf0\\x02\\xc0\\x0f\\xf7~\\xf2\\xfeC\\xebM\\xb4\\xba\\x92\\x08\\xc1GicRv\\xe4\\x96\\xdb\\xd78#\\x91\\xf4\\x18\\xfa\\xd0\\x06\\xfd\\xef\\x87\\xd6A\\x98\\x1f\\x1f0b\\x06\\x14\\x93\\xf9m?\\x88\\xcf\\xbdT\\x99\\xef\\xe0\\xb6{9w\\xbcN<\\xbd\\xbb@}\\xbe\\x83\\xd7\\x8e\\xe0\\xb7\\xd2\\x885\\x91$\\x90\\x19$\\x94ln\\x15\\xb8\\xdczcp\\x1c\\xfd1\\xf55\\xb9\\x1d\\xed\\xa5\\xda\\x04}\\xb8~\\x02\\xc8\\x06\\x18\\xfa\\x03\\xd0\\xfe\\x04\\xd0\\x06D7\\xebp\\xcfon\\xc9j\\xa1@\\x96YN\\xe6?\\\\\\xf4\\xfcq\\xd7\\xb5h\\xdb\\xdbZi\\xfbV\\x143NFF0[\\x1e\\xbe\\x80{\\xf1Q>\\x99k|\\x82{v#\\xb2\\x96\\x07\\x8cz\\x1e\\x18~\\x07\\x1e\\xd5FKK\\xfd<0\\x81\\xddT\\x8eH\\xe7?\\x88\\x18\\xcf\\xb9Q\\xf5\\xa0\\r\\x03u\\xf6;\\xa9<\\xd8VK\\x89\\xc8\\xc0\\x84\\xee#\\x00`\\x1e\\x9e\\xff\\x00\\xadU\\xb8\\x86]In\\xa4\\xbc\"4\\xb7F\\x01\\x10\\x03\\xce2A>\\xc3\\x15\\x0e\\x9f\\xaa\\xda\\xe9\\xf6\\xeb\\xe7\\xdb\\xc8\\x8e\\xe3\\x996\\x92d>\\xb9\\xe4\\x1e}\\t\\xa9\\x92T\\xf2\\xda\\x06y\\'\\x92Fv0\\xc3\\xb9z\\x9f\\xe2n\\xbcd\\x0f\\xcb\"\\x80\\x16\\xe7\\xc3p\\x80^\\xd6g\\x84\\xf7\\x19\\x00c\\xeb\\x8f\\xe6\\rc\\xc7s\\xa9X\\xceC9\\xba\\x89\\t\\xd8\\xccT\\xa2\\x9f_\\xa7\\xe5\\x9a\\xe8\\xe2\\xb1\\xb8\\xb8A\\xf6\\xf9\\xd9\\x97\\xfey\\x82\\x07\\xe6G\\xf9\\xf7\\xaa\\xb77\\x96?\\xda\\xf60Cq\\x1a\\x08\\x19\\xd9\\xc2\\x9c\\x0f\\xbb\\x8c{\\x92OO\\xad\\x00U\\xb1\\xd4\\xec\\xe4\\x9c\\xb5\\xff\\x00\\x99\\xe7\\x13\\xfcc\\x81\\x9e\\x9c~]3\\xeb\\xc5j\\\\\\xdf\\xc5<\\x0e\\xaa\\xea\\xb1\\x10T\\xb3r\\xc7\\xb7\\x0b\\xdb\\xeaqTn\\xed\"\\xd5\\xd8\\x0bK_-3\\xcc\\xec6\\x83\\xcf8\\x1e\\xbe\\xfd~\\x95N=\\x12\\xf6\\x1bxn-e\\xdeJ+\\x01\\xd0\\x8c\\x8fN\\xd8\\xcfc\\x9a\\x00\\xd6\\xb3\\x82\\xf5\\x9dY\\x1f\\xec\\xf0\\x8e1\\xb7\\xef\\x0f\\xf7Nq\\xf5\\x18\\xfcj\\xe1\\xb9\\x96\\x19DR\\xa2\\xca\\xc4\\x16\\xfd\\xd1\\x00\\xe3\\xfd\\xd2\\x7f\\x915\\xcf\\xff\\x00o^[\\x93oy\\x1c\\x81\\x94e\\x99P\\xee\\xc7\\xe5\\xc7\\xe4j{9\\xad\\xb5\\x12|\\xf9R(\\x94\\xe7\\xcb\\xeaO\\xbb1\\xfe\\xbc\\xfd(\\x03^\\x13gu\\x96\\xb5\\x94+\\xf5&#\\x83\\xf5#\\xfcE=\\xe3\\x97\\x1b\\\\Gq\\x1f\\xa3\\x8c7\\xf8\\x1f\\xd2\\xa2\\x91\\xadV?*(Q\\xc4y\\xc9\\xe8\\x89\\xeaKv?\\xadQ\\xb4\\xbc\\xbc2\\xf9\\x10\\x13p\\xca\\xc7q|\\x94\\x03\\xb7\\xcd\\x80G\\xe3\\x9f`h\\x03@\\xb0\\nU&x$#\\x01e\\xe4g\\xeaz\\xfe\\x06\\xaa\\xcfy=\\xae\\x9d\\x0f\\x95\\x12)8@\\xd9\\xe0px\\xc7c\\xc6;\\xd2j:\\xe4vY\\x86kwiI\\xdb\\xb4\\x0c\\xab\\x1cg\\x00\\xe3\\x9e\\x08\\xedY\\xd0jv\\x17n\\x15\\x83\\xdb\\xc5\\'\\xf00\\xdd\\x18\\x7foN\\xfc\\x8c}y\\xa0\\rKIV\\xfe7D\\x89U\\x86<\\xc7s\\xbf\\xe9\\x8c\\xf5\\xfe\\x9e\\x95J\\xda\\xe9\\xad\\xae\\xee\\xad\\xa42\\xb8\\xf3\\x1aL\\xc2\\x06\\xe2I\\xfe/O\\xc2\\xae[\\xd8\\xc5n\\x9b\\xd6\\x0f:7\\xc3\\x07\\x8aB~\\x84\\x02x\\xfa\\x82MB\\xf13*\\xaf\\xdaZ6\\x0c\\x08\\x0e\\x0e\\xf2\\x00\\xc6\\x15q\\x9ez\\x93\\x83\\xcf\\xad\\x00]\\xd3$\\x95\\xdau\\x93\\x18\\x042\\xe0\\x82~a\\x9eH\\xab\\xf5\\x97\\xa7\\xdcC\\x1c\\xf2\\xc7!Xdv\\n\\xb1\\x93\\xc8\\x01@\\x02\\xb5(\\x00\\xa2\\x8a(\\x00\\xa2\\x8a(\\x00\\xa2\\x8a(\\x01\\xbb\\x13~\\xfd\\xab\\xbf\\x18\\xdd\\x8eq\\xe9K\\xd6\\x96\\x8a\\x00\\xcfm\"\\xd8M\\xe6\\xc0\\x0c;\\xb8t_\\xb8\\xe3\\xbeG\\xf8U9\\xe0\\x91\\xefm\\xd1\\xa0\\x90\\x1f\\xb5\\x19\\xc9\\x0b\\x95\\x18\\xc7\\x7f\\xf1\\xc5nQ@\\x05\\x14Q@\\x05S\\xba\\xd3m\\xae\\xb2]6\\xb6s\\xb9}}~\\xbe\\xf5r\\x8a\\x00\\xe6.\\xb4k\\x9by\\x0c\\x91\\x93 \\x03\\x01\\x93!\\x87\\xf5\\xfey\\xeeET\\x12\\xc8B\\xc78.\\x9c\\xe3\\x85\\xdc>\\x99\\xe0\\x81\\xfe\\xce\\x07\\xe3]\\x95U\\xba\\xb0\\xb7\\xbb\\x07\\xccA\\xb8\\xf5a\\xd4\\xfd{\\x1f\\xc6\\x809\\x9by,\\xad6\\xdccxU\\x03\\xf7lRD\\xcf=:\\xf7\\xe9\\xd3\\x1d\\xebz\\xd6\\xf8\\xcc\\x15\\xa2qr\\xa5r\\x17\\xeeI\\x8f\\xa7F\\xfa\\x8cVF\\xa1\\xe1\\xf9\\xe2\\x8f0f\\xe5\\x07\\xf0\\x1cg\\x1f\\x8f9\\xf7\\xc9\\xfaUT\\x92HY\\x16\\\\\\x92>_\\x9b\\x00\\xe7\\xd3v1\\x9f@\\xc0\\x91\\xed@\\x1a\\xdau\\x8d\\xbc\\x91\\xbc\\x1b\\x9a9\\xe2c\\xb4\\xfd\\xd6\\xc6\\x07;O\\xf3\\xfdj+\\xbd.@\\xdb\\xa7\\x8b\\xcd\\xff\\x00\\xa6\\xd0\\xf0\\xff\\x00\\x88\\xe7?B\\x0f\\xd6\\x9b\\x15\\xee\\xfd\\xa9+\\t\\xb0p\\xa9(\\xc3\\x8fuo\\xea\\t>\\xc2\\xa4]s\\xc9\\x9b\\xca_5\\xc0;]g\\x03+\\xf4#\\x92\\x07\\xb8\\'\\xd7\\x14\\x01\\x8d{\\x08\\x8a/1\\xa4Y\\x91\\x98.W\\n\\xe7\\x9e\\x84to\\xc0\\x9f\\xa52\\t\\xa5\\x8c\\xbf\\x93 q\\xd1\\x97\\xd7\\xb7*}\\xfb\\x7f\\xe3\\xb5\\xa3\\xaa\\xcb\\x04\\xd3\\x19\\xe6\\xf2\\xe4R\\xa0\\x83\\x13\\x00G\\xa0\\x1e\\xbc\\xf5\\x04~\\x94\\xfb}\\nd\\x84\\xcc\\xf1,\\xdb\\xf9\\x08\\xc4\\x07Q\\xe8\\x08\\xc6\\x0f\\xd0\\xe3\\xda\\x80\\x1bg\\xad\\x18K!;\\x02\\x91\\x90yA\\xf8\\x1c\\x15\\xfd=\\x96\\xb5\\x93U\\xf3%\\x8b\\x1b\\x16!\\x93+d\\x90\\x068\\xf7\\x1f\\xf0 +\\nk\\x0c\\xc8BJC(\\x1f\\xbb\\xb8\\xf9Xza\\xc0\\x18\\xcf\\xbe3U\\x9a\\x19m\\xa6\\n^[y\\x7f\\x85$\\xc2\\x92\\x7f\\xd9`0\\x7f\\x01\\x9fz\\x00\\xe9\\xb5[;Im\\r\\xcf\\x96\\xa4\\xa9\\x0f\\xb9@9\\x19\\x198\\xe8x\\xcf\\\\\\xd5I\\xb4i\\xad\\xdc=\\xab\\x10\\x06xN\\x83\\xfe\\x02NG\\xd5X}+2\\x0b\\xc9\\xa3U\\x8ep\\x7fx0B\\x807~\\x1c\\x86\\xfa\\x80\\xc7\\xdcV\\xb6\\x99\\xa9C\\x1cK\\n\\x00\\xcb\\x93\\x8d\\xa7\\x0c\\x0es\\x8c\\x13\\xcf\\xe0I\\xf6\\xa0\\n\\xf2^\\xde\"\\x98\\xe7C*\\xa8\\xcb\\x01\\x92>\\xac8l{\\x10s\\xebSi\\xdfc\\xba\"{\\x99U\\xdd\\x8e\\x02\\x9c\\x04\\x1d\\xb01\\xc1\\xe3\\xb7\\xd3#5\\xa3=\\xc5\\xa4\\xaa\\x9b\\x97\\xce&@\\x98\\x03\\xe6B{\\x9e\\xebUntDg2A!W=Np\\xc4zn\\x1d\\x7f\\xe0A\\xa8\\x02{\\xadA\\x12#\\xe4\\x95\\x08x\\xf3[\\xee\\x0f\\xa7v\\xfc8\\xf7\\xaaf\\xee\\xec\\xc1k\\x1b/\\xd9\\xa2\\x91\\x84;\\xcf\\xde\\'\\x07\\x18\\x1d\\xba~\\xa0\\xe6\\xa9\\xbd\\xbd\\xdd\\x84\\xeb+\\x01&\\x08\\n$\\n;\\x8cc\\xf8O\\xb0\\x05O\\xa5X\\x97X\\x8e\\xe6E\\xb6\\x9d\\x1a)#\"Bv\\x1d\\xcaG\\xfb\\'\\xbf\\xe61@\\x17\\x97O\\xb6\\x8e\\xee(\\xccBM\\xd1\\xb9fq\\x92NW\\xfck7T\\xd3l\\x96@\\xb6\\xcc\\xff\\x00i\\xce\\x02\\'$~=A\\xfc\\xcf\\xb5>\\x0b\\'\\xd4o\\r\\xe4r\\xcb\\nci\\x7f3.\\xdc\\xf3\\xf4\\xfat\\xfa\\xd6\\xa2%\\xb6\\x9e\\xa1\"B\\xd2\\x91\\xc2\\xa8\\xcb\\xb7\\xf8\\x0f\\xc8P\\x07+\\x12j\\n\\xad\\x1bn\\x94@q\"\\x06\\xe4\\x1c\\xf5\\xc8\\xe0t\\xea}\\xf9\\xadK]}bE\\x80\\xdb,$\\x82A\\xc6\\xd5\\x1c\\xf5\\xc7\\xff\\x00\\\\f\\x9da}kk\\xe7\\xcc\\xb1\\xdc5\\xe5\\xcbnh\\x190GR\\x07\\xa0\\x1c\\x9ae\\xdd\\xaa\\xcf?\\x9b\\x7f \\x8eB\\xa5\\x96\\x08\\n\\xa9\\x03\\x8f\\x99\\x89\\xfeg\\xf2\\x1d(\\x02\\xb5\\xe1k\\xab\\x89\\xe7\\xb4\\x99\\xae\\xa3\\x111\\x93r\\xe1A\\xc6\\x0e\\x06=\\x07\\x7f\\xcc\\xf4\\xad(\\xb4\\xbbY\\'\\x12G\\x1e\\xc0\\xc1%\\xd8\\xfc\\x85;\\xb9\\xfd;t\\xac\\xed\\n\\xc2`\\x0co+\\xc0\\xad/\\xcc\\x8eW\\xe7\\xc0<m\\xc7<\\x10}\\xbd+R\\xe5mmQ\\x9c$\\xd3\\xac@)\\x19,\\x83\\x9f\\xe2\\xc7\\xa7\\\\`\\xe3\\xd2\\x80$7R\\xdb(h[\\xcf\\xb6Q\\xf7\\xa4\\xc2\\xfeM\\xd0\\x80=\\xbf\\x1ac\\xea1LP2\\xcc%\\x0f\\xc4I\\xd4\\xf1\\xd8\\x8e\\x0fQ\\xdf\\xa1\\xf4\\xa8[QY\\xe1\\xf2\\xbeY\\x9d\\x8ePB\\xc3\\xe5\\x1d\\x0eA\\x18\\x03\\xeb\\xebO\\xd3-\\x05\\xbe\\xa0%\\x92]\\xd3K\\x1b\\x13\\xd0g\\x95\\xe9\\xdf\\x1c}=(\\x01\\x91\\xbc\\xb3,\\x82uH\\xca\\xcaY\\x98\\x1d\\xcd\\x90\\x00;GA\\x8e9<\\x0c\\xd6\\xcc\\x0e\\x92B\\x8d\\x1b\\xefB8l\\xe75\\x86\\xb61\\xcdst\\xf7\\x13\\xc8\\xd0\\x99\\xd8\\x0bt\\x1f}\\x87\\xae9#\\xdb\\xeb[\\xb1q\\x12\\x82\\x818\\xfb\\xa3\\xb7\\xb5\\x00>\\x8a(\\xa0\\x02\\x8a(\\xa0\\x02\\x8a(\\xa0\\x02\\x8a(\\xa0\\x02\\x8a(\\xa0\\x02\\x8a(\\xa0\\x02\\x92\\x96\\x8a\\x00(\\xa2\\x8a\\x00*\\x0b\\x8bH.\\x7f\\xd6\\xa0-\\x8cn\\x1c\\x1cz{\\x8fn\\x95=\\x14\\x01\\x81u\\xa1\\xbae\\xad\\x9bp\\xfe\\xe9\\x03\\xf9t\\xfc\\xb0=\\x8dd\\xed\\x96\\xd5\\xa4\\xde\\x19\\x07*\\xf9\\\\\\xa8_|\\x8c\\x81\\x80>\\xf0\\xfa\\n\\xedj)\\xa0\\x8aq\\x89\\x10\\x1ct=\\x08\\xfa\\x1e\\xa2\\x8098\\xde\\xdbf\\xd6@\\x01\\xc0+*\\xe4c9\\xc0\\'\\x81\\xf8m\\xfa\\x1a\\xd9\\x82\\xf5P\\xed\\x8eC\\x0e\\xde\\xb1\\xcb\\x92\\x98\\xf6n\\xaa>\\xbf\\x80\\xa6^\\xe8y\\x05\\xad\\x9b\\x07\\xae\\xde\\x07~}\\x8f\\xe8OsYE\\'\\xb5b\\x8e\\xac\\x02\\xfc\\xc4`\\x90=\\xf1\\xd5~\\xa3\\x03\\xdc\\xd0\\x07E$\\x90L\\x02\\xdeE\\xe5\\x9e\\xcc\\xdd?\\xe0.?\\xfa\\xc6\\xa0\\x9bKt\\x8d\\x92\\xd9\\xd6H\\x88\\xff\\x00S0\\xca\\xff\\x00\\x9f\\xc8\\xfb\\xd6r]\\xbd\\xbcl\\xf6\\xf2\\xa1R\\xa3\\nO\\xc8s\\x9e\\xbe\\xc7\\xd7\\x03\\xfd\\xe3Vl\\xafC\\x0f\\xb8\\xf6Rc;>\\xfcl=q\\xe9\\xee0=\\xe8\\x03&4\\x86T+\\x08\\x92\\xd4\\x03\\xb7\\xcb\\x99\\x0c\\x911\\x1d\\x87S\\xc7\\xe2\\x05Eum\\xb7\\r,L# \\x80\\xeaL\\x88z`n\\x1c\\x8f\\xa6q\\xed[\\xf61\\x9bf\\xb9\\xf3\\xd23ip\\xe6P\\xcb\\xf3\\xa6H\\x1e\\xdc\\x0f\\xaf\\x1e\\xf5;i\\xa8XMe1\\x8c\\x91\\xd8\\xeeV\\x1f\\xe7\\xd7 zP\\x079\\x15\\xd4\\xb0d\\x12\\xd3\"}\\xd2I;~\\x8c0@\\xff\\x00\\xbe?\\x1a\\xd5\\xb3\\xd7\\xb2B\\xb9-\\x91\\x90\\xb2\\x02\\t\\x1e\\xcd\\x8c\\x11\\xf5\\x00\\x7f\\xb4i\\xb7\\x16^S\\x17\\x9a\\x13n\\xdf\\xf3\\xda\\x0f\\xbb\\xf5#\\xa7\\x1f\\x81\\xf6\\xaaic\\xe6]\\x086\\xac\\xd9\\xf9\\xd8!\\xdb\\xb9s\\xdd[\\x1f6;\\xf5\\xe4s@\\x1d\\x05\\xad\\xeaL\\\\L\\xc8\\xa1\\xcf\\xee\\xd5\\x862\\xb8\\xf5\\xe8\\xdd\\xfa\\x13T\\xdfL\\xb6\\x97R\\xb9\\x8bj)h\\xd1\\xc2\\xec\\xc8\\xc7#\\x91\\xdb\\x91\\xd8\\x83Q\\xc9\\xa6\\xc5,\\xad\\xfd\\x9fpm\\xa5<\\xbd\\xbc\\xab\\x95?U?\\xcf\\x9a\\xa3\\xf6\\xc9\\x169!\\xb9\\x89\\x82\\x03\\xb1\\x99\\x0e\\xf4\\xe0\\xfagr\\xf2=\\x7f\\n\\x00\\xbb.\\x9dwk&\\xf8\\x1d\\xc8\\xc0\\xe7%\\x87\\xd3#\\xe6\\x1fO\\x98UH\\xb5)\\x9a\\xedl\\x15\\x85\\xb9|\\x99f\\xc8g\\xfan\\xf5\\xfc\\x01\\xe8+f\\xd7W\\x82t,\\xe4*\\x8e\\xae\\xad\\xb9\\x07\\xd4\\xf5_\\xf8\\x10\\x15\\x9bq<\\x10jQ\\xc9x\\xf2+E\\x00\\x01\\xa392\\x9eFA\\xeb\\xc8c\\xdcP\\x03\\xacJD\\x01\\xb4b\\xf1I\\xb7k\\xed\\xf9\\x888\\x00\\x93\\xd0g\\x8fV\\xe7\\xa7zMD[y{H\\x0e\\xca7\\x19pB\\xa8\\xc8\\xc8V\\xee\\xc7\\x1ds\\x9e;t\\xadGx\\xda/*\\xda4)\\x19\\xce\\xf3\\xc4hG\\xf3#\\xd0~$V\\x1d\\xf4\\xca\\x97Hm%r\\xcc\\xe7\\xccvm\\xaa\\xecF\\x01\\xc7L\\x01\\xdf\\x1d:g\\xad\\x002\\xf6\\xf2\\xd9\\x11V\\x08%\\xb5\\xb9\\x07$\\xcf\\xbfq\\x07\\xdcg?\\x89\\xa9\\r\\xcc\\xda\\x95\\x9f\\xd9\\xad\\x7fw0\\xfb\\x8b\\xb3j\\x14\\xe9\\x95\\xe0s\\x9es\\xecp\\x05T\\x89-\\xa1\\x99E\\xc6P0\\xcc\\x81\\xf7m\\x1f6\\x00\\x1d\\xc7a\\x9fz\\xb7b\\x046\\xd2\\x0f\\xb44p,\\xad*&\\xec\\xb1Q\\x8e\\x8d\\xd7\\',(\\x02{o\\xb5C\\t\\x82+0.\"\\x003\\x1cl\\x18\\xe8I\\x19\\xc9\\xc7\\xaf\\xe0*m5c\\xba\\x83\\xcd\\x8e\\x17\\x96\\xe2L\\x89%\\xb8^\\x10\\x8e8\\xff\\x00\\x01\\xf8\\x9a\\xb58d\\xb5\\xde\\xca`\\xb6Lb\\x15\\xc0g\\xe7\\xb9\\xec=\\xbf3\\xda\\xa7\\x12\\xb4\\xc0%\\x98\\t\\x10\\xe3\\xcd\\xc7\\x18\\xf4Q\\xdf\\xeb\\xd3\\xeb@\\x11\\xc3\\x14\\x16\\x04\\xa4J\\xd3\\\\?-\\xdd\\x8f\\xb9=\\x87\\xf9\\xe4\\xd5\\xe1\\xd3\\x9e\\xb4\\xc8aHT\\x84\\x07$\\xe5\\x98\\x9c\\x96>\\xa4\\xd4\\x94\\x00QE\\x14\\x00QE\\x14\\x00QIK@\\x05\\x14Q@\\x05\\x14Q@\\x05\\x14Q@\\x05\\x14Q@\\x05\\x14Q@\\x05\\x14Q@\\x05\\x14Q@\\x05G,1\\xcc\\xbbd@\\xc0r3\\xdb\\xdczT\\x94P\\x06%\\xee\\x82\\x1b|\\x96nVB8\\x05\\x88\\xe7\\xeb\\xdf\\xeaA>\\xf5\\x94mnm\\x8e\\xd6FV<\\xed\\\\\\x91\\xf5\\xd9\\xce~\\xab\\x93\\xf4\\xae\\xa6\\xee\\xe3\\xec\\xd0\\xf9\\x9e[\\xc9\\xf3*\\xed\\\\g\\x93\\x8f\\xebP%\\xcf\\xdbm#af\\xd2\\t\\x06J\\xb1\\x18\\x1c\\xe3\\xa9\\xfazP\\x06\\x1d\\x9d\\xe3\\xa0WVe\\'\\x19h\\xd8\\xb0\\'\\xdf\\xa9\\xcf\\xaew~\\x15u.\\xc2\\x04\\x91\\xd2H\\xcc\\x9d$\\x89vn9\\xee\\xa7\\xe5?\\\\\\xe7\\xd8V~\\xb4d\\x87\\x06\\x0bf2d+\\xb8`\\xc1=\\x8bq\\x93\\xec\\xd9\\xabQ,\\xf7\\x11\\xa1\\x10yq\\x05+&\\xc7\\xf3\\x00\\x1e\\x85:\\x8f\\xa7 zP\\x05\\x93\\xabL\\xcc \\x01b\\'\\xad\\xc3\\x81\\xb4\\x0f`\\t\\xc9\\xfcqU-\\xb4\\xebmI\\xa6kf\\xb8\\x8fa\\xff\\x00\\\\\\xe4\\x91#g\\xae\\xde\\x98\\xe3\\xb6;Qm\\xa7\\xcd\\x14\\x92Mb!\\x9a!\\xf24m\\xf3\\x06\\xe8N2x\\xff\\x00\\x1e\\xd5\\x1b^\\x9b0\\xcd\\x04s\\xdbK\\xbc\\x03\\x0b\\x10c9=r~\\xef\\xfc\\x08g\\xd2\\x80\\x1bqe\\xa8\\xda\\\\,\\xd71\\xc9}\\nc\\x18\\x91\\x98\\x0f}\\xbdA\\xf7\\x19\\xc5[\\xb5\\xba\\xb4\\xba\\x89V)W\\t\\xf2\\x88\\xa7\\'\\xe5\\xfa?U\\xfcy\\xf6\\xa9\\x0c\\xd7\\x06L\\xdf\\x89p\\xc4yb\\x16UF\\xe7\\xd4\\x9cs\\xf5\\xcfZ\\x9e\\xf2\\x1b8Y\\xefo\\xd1\\x03\\x95\\xd8\\x15\\x07<\\xfb\\xf5\\'\\xdf\\xb5\\x00f]\\xe9\\x90\\xa5\\xd1\\x9c\\xc9%\\x93\\x05\\x01K9PO?\\xc6\\xbd\\xbau\\xe7\\xadA{%\\xf5\\x8d\\x83\\xa3\\xad\\xbb\\xc5?\\xdeq\\x1a\\xefe\\xc8\\x19\\xe3\\xe5<\\x91\\xc9\\xf5\\xa9b\\x96\\xfa\\xd2i\\x19e\\x89\\xed\\x88\\x18\\x80:\\xb8_n\\xb9\\xe9\\xe9\\xff\\x00\\xd7\\xa8\\xaeK\\xbd\\xa3\\xcfo\\x07\\xee\\n\\xa1t\\x8f\\x00E\\xc9$m\\'8\\xe7\\x92\\x068\\xa0\\x08ln\\xa6\\x9e\\xdd-\\xa1\\x13\\xb2\\xc2\\xa0\\x08\\xe4%\\x9d~\\x9e\\xb8\\xe39\\xc7\\xb6+L\\xd8Am\\x01\\x9a2\\xf7Wh\\x82E\\xfd\\xe1`\\xa0\\x10\\xd9$\\x9crG^\\xfe\\x9dj\\x84\\xb33\\xcdo!\\x84[yQ\\x92\\\\\\x9d\\x8c\\xe3o\\xcaA\\xcf=\\xb9\\xf5#\\xb5_\\xbf\\x9ek\\x1bRmbe\\xb7\\x95\\x97\\xaf\\xdev$n\\xc6y\\x19\\x199<\\xf0h\\x02Ky\\xa2\\x9c\\x8b\\xbf(\\xcf#\\x02\\x1cH\\xb8\\x10\\x1e\\x84\\xe3\\x9c\\x02?\\x1e\\xfd*\\xe46vZr\\x99\\n\\xa9\\x92L\\x81\\xb5z\\xe7\\'j/a\\xc9\\xe0~4\\x96syP\\xfd\\x8a\\xd6 \\xd2@|\\xb6#\\x84_BO\\xa9\\x1c\\xe0s\\x9fJ\\x9a\\x0b\\x13n\\xdedr\\x86\\x90\\xf0\\xdb\\xd7\\x8cg8_\\xee\\x8f\\xf3\\xcd\\x00Em\\x03\\xdd\\xc2\\x12\\xef!\"\\xc2\\x983\\xd4\\x8e\\x85\\x8f|\\xf0q\\xd3\\x9e\\xf5-\\xed\\xf1\\xb3\\x96$(68\\xfb\\xd9\\xe9\\x823\\xc7\\xd0\\x93R<r;\\x071 q\\xc6\\xe5\\x94\\x83\\x8f\\xcb\\x9aX\\xadUK4\\x98\\x91\\x98\\x83\\xf3s\\x8f\\xa6h\\x02\\xc5\\x14Q@\\x05\\x14Q@\\x05\\x14Q@\\x05\\x14Q@\\x05\\x14Q@\\x05\\x14Q@\\x05\\x14Q@\\x05\\x14Q@\\x05P\\x9aY\\x7f\\xb4\\xbc\\xa53l\\x11\\xabb0\\xb8\\xc9c\\x9c\\xe7\\xe8*\\xfdV\\x96\\t~\\xd2f\\x82H\\xd1\\x8a\\x04;\\xd0\\xb6@$\\xff\\x00xz\\xd0\\x05H\\xe6\\x9e\\xe1\\xd5\\x0c\\xce\\xa37\\x04\\xf9arvI\\xb5G#\\xd2\\xad4\\x81\\xecRd\\x9d\\xa2\\x8f`s!PN\\xdcg\\xe9\\x9f\\xc2\\xab\\x7ff\\xcf\\x85\\xc5\\xc4JT\\xbb\\x02\\x91\\xb8?1\\xdc\\xdf\\xc7\\xdc\\xd2K\\xa6\\\\Il\\xb6\\xff\\x00j\\x8dcP\\xa0\\x01\\x1b\\xf1\\xb7\\xa7\\xf1\\xff\\x00\\x9e(\\x02\\xf5\\xa1\\x95\\xadb3\\x8cHTn\\xe3\\x155Am\\x1d\\xc4k\\xb6y\\x92\\\\\\x0c\\x02\\xb1\\x95?\\x8eX\\xd4\\xf4\\x00QE\\x14\\x00\\xd6Uq\\x86\\x00\\x8c\\x83\\x83\\xed\\xcd1\\xe2\\x06\\xd9\\xa1\\x8c\\xf9@\\xa1U*>\\xef\\x18\\x18\\xa9h\\xa0\\x0ch~\\xdf\\xa6\\xc4\\xb0\\xc9\\x1a\\xdc\\xc0\\xa3\\x1b\\x94`\\xf5\\xf4\\xfa}~\\xb4D\\xb67\\xae\\x1e\\xc6o\"u\\x19\\x0b\\xd3\\x8f\\xa7\\xa7\\xd0\\xe3\\xd75\\xae\\xce\\x89\\xf7\\xd9W\\xeaqT\\xef4\\xdb9\\x83M$a\\x18|\\xc5\\xd3\\x83\\xc79>\\xbf\\x8d\\x00P\\x9cHf\\x7f\\xb6\\xc4Y\\x13\\xe5ic8$\\xf0F\\xee\\xc4\\x01\\x8e\\xb8\\x1c\\xf7\\xa9dh\\xee\\x15\\x1a}\\xb70E\\x9ePm\\x91I\\xe0|\\xbd\\x7f.\\xbcqQ\\xc5\\x1e\\xa9\\xa6\\xc4\\x193w\\x1ba\\x99\\\\\\xe5\\xd7\\x8f^\\xa7\\xb7\\xaf\\xd2\\xb3\\xf4\\xf3c2\\xb8{\\xc9\\xa0\\xb8\\x8c\\x16,\\xcd\\x86\\xdes\\x9c\\x0f\\xcb\\x81\\xcfZ\\x00\\xb1*\\xb5\\x95\\x9b\\xdc\\xdbI\\xb1K\\x85\\xf2>\\xf6rq\\x86^\\x9f\\\\`\\xfb\\x9a\\xaa\\xf7i\\x06\\xa5\\x14\\xa6\\x01\\x0b\\x01\\xf2\\xb6\\xe6\\xdas\\x91\\x8cv\\xfc\\xc6=\\xe9\\xf6zW\\xda`\\x92h\\x11\\xdd\\xd8\\xb6\\x1ew c\\x04g\\xa6s\\xce}\\x06\\x07|\\xd1l/V\\r\\xb2Z\\xb3@\\xe5U\\xde\"H\\x00aI\\xc7C\\xc0\\xceG\\xe7@\\x16\\xa6\\xb2H\\xa4K\\xab\\xf6k\\xa0\\xcb\\x81\\x0e\\xe2\\xc5\\x07]\\xc0\\xe7\\xf3\\xfe|r]I$W\\xf1\\xc7y\\x1b\\xcc\\x85\\x0b\\xc3\\xe5\\x9c\\xb4ds\\xd4\\xfd\\xee\\x9dM?AY\\r\\xac\\xc2\\x18V=\\xf2\\xb7\\xef\\x08\\xca\\x85\\xf4Q\\xdf\\xbf\\xb0\\xcf\\xe1K\\xe4\\xa5\\xad\\xed\\xaa\\xc6\\xb2Kq\\x0b\\xba\\x90\\x0eY\\xd0\\xaf\\x04\\xe7\\xb7A\\x9e\\x9dh\\x02\\xe4?1\\xf35\\x16M\\xf1\\x80\\xeb\\x83\\xfb\\xb0?\\xbc=O\\xbfo\\xe6\\xb7\\x0b5\\xfcG`1\\xc2>e\\xcf\\r!\\x1f\\xfa\\x08\\xfd~\\x9d\\xe1m>P\\xf1\\xcc\\xc5\\x19\\xd4\\xeeH\\x83|\\xb1\\x1f\\xf6A\\xe1\\xbf\\x1c{b\\xa6f\\xb9\\xfb\\x7f\\xc8d\\x11\\x96^\\n\\x9cw\\xdd\\xcf\\xe5\\xfd;\\xd0\\x02\\xc2\\xb0\\xcb,\\x91\\xdb\\xb7\\x91%\\xbe\\x13\\xe4\\xc7\\xdd#8#\\xa7\\\\\\xff\\x00\\x93QO\\x05\\xe3^\\xa3F\\xcf\\xe5\\xab\\xc7\\xb8\\xee\\xda\\x18\\x0c\\xee8\\xcf\\xd3\\x8e+O\\x039\\xc7&\\x96\\x80\\n(\\xa2\\x80\\n(\\xa2\\x80\\n(\\xa2\\x80\\n(\\xa2\\x80\\n(\\xa2\\x80\\n(\\xa2\\x80\\n(\\xa2\\x80\\n(\\xa2\\x80\\n(\\xa2\\x80\\n(\\xa2\\x80\\n(\\xa2\\x80\\n(\\xa2\\x80\\n(\\xa2\\x80\\n(\\xa2\\x803\\xb5}3\\xfbJ%UuF\\\\\\x8d\\xc4g\\xae?\\xc2\\xae<^c\\x82\\xecJ\\x8eBv\\xcf\\xa9\\xf5\\xa9h\\xa0\\x0c\\xb8\\xf5\\x19\\x9bP\\xf2p\\x8f\\x1e\\xf7\\\\\\xaa\\x9d\\xdf(\\xfa\\xf6<{\\xe4R\\xfd\\x92\\xd8\\xc6\\'\\xbd\\xb7\\x06y\\x1c\\xb6\\xde\\xad\\xd7\\x85\\xe3\\xaf\\x18\\xe3\\xa7Z\\xd3\\xac-RY\\xe2\\xbf\\x9exn\\x1a?\\xb3\\xc0\\x84)\\x19W\\xcb\\x1e\\x08?N\\xa2\\x80\\'\\xbe\\x9eX\\xe4\\xb6\\x13C\\xfe\\x8f+\\xec1\\x03\\xcf\\xb6q\\xd7\\xfd\\xd1\\xfa\\xf6\\xb4\\xe9,\\xd1\\xee\\x966\\x11\\x8f\\xf9`\\x84e\\xbf\\xde9\\xc7\\xe0\\x0f\\xe7Tu\\xbbf];\\xcd\\xdf\\xba\\xe40!\\x8fRy\\xf9Tv\\xe7\\x1c\\x0f\\xd6\\xad\\xc5\\r\\xc5\\xdcK\\xf6\\xdf\\xdd\\xa69\\x89O-\\xfe\\xf1\\x1f\\xc8\\x7f\\xf5\\xa8\\x00K\\xb6\\xbaP\\x96\\x0b\\x84\\x03\\x06f\\\\*\\xfb\\x01\\xdc\\xfe\\x83\\xf4\\xa7\\xad\\x91\\x81\\xfc\\xdby?z\\xc3\\x124\\x9c\\xf9\\x9f_Lv\\xfa\\xf4\\xa6[O\\x15\\xb5\\xba(\\x1c4\\xec\\x80&>R\\\\\\xe0b\\xaf\\xd0\\x06k\\xd8\\xcc\\xfa\\x8cWg\\xca\\x0e\\x15C\\x90Obs\\x80G\\xa1\\x1d\\xc5iQE\\x00\\x14QE\\x00\\x14QE\\x00\\x14QE\\x00\\x14QE\\x00\\x14QE\\x00\\x14QE\\x00\\x14QE\\x00\\x14QE\\x00\\x14QE\\x00\\x14QE\\x00\\x14QE\\x00\\x14QE\\x00\\x14QE\\x00\\x14QE\\x00\\x14QE\\x00\\x14QE\\x00\\x15\\x97\\xa9\\xe8\\xc9|\\xef,r\\xb4S2l\\'\\xaa\\xb0\\x1e\\xdd\\xbe\\xa3\\x15\\xa9E\\x00V\\x86\\xd0$\\x82i\\x98\\xcd>>\\xfbt_e\\x1d\\x87\\xf99\\xab4Q@\\x11\\xc9\\x0cr\\xed\\xde3\\xb5\\x83\\x0c\\x129\\x1d3\\xebRQE\\x00\\x14QE\\x00\\x14QE\\x00\\x14QE\\x00\\x14QE\\x00\\x7f\\xff\\xd9']"
            ]
          },
          "metadata": {
            "tags": []
          },
          "execution_count": 31
        }
      ]
    },
    {
      "cell_type": "code",
      "metadata": {
        "id": "6G_VtL4XWfE6"
      },
      "source": [
        ""
      ],
      "execution_count": null,
      "outputs": []
    }
  ]
}